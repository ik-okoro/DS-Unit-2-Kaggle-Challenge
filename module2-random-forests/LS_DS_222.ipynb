{
  "nbformat": 4,
  "nbformat_minor": 0,
  "metadata": {
    "colab": {
      "name": "222_guided-project.ipynb",
      "provenance": [],
      "include_colab_link": true
    },
    "kernelspec": {
      "display_name": "Python 3",
      "language": "python",
      "name": "python3"
    },
    "language_info": {
      "codemirror_mode": {
        "name": "ipython",
        "version": 3
      },
      "file_extension": ".py",
      "mimetype": "text/x-python",
      "name": "python",
      "nbconvert_exporter": "python",
      "pygments_lexer": "ipython3",
      "version": "3.7.3"
    },
    "widgets": {
      "application/vnd.jupyter.widget-state+json": {
        "e2c6ca9bc2e54e14ba5b8b05986a9adb": {
          "model_module": "@jupyter-widgets/controls",
          "model_name": "VBoxModel",
          "state": {
            "_dom_classes": [
              "widget-interact"
            ],
            "_model_module": "@jupyter-widgets/controls",
            "_model_module_version": "1.5.0",
            "_model_name": "VBoxModel",
            "_view_count": null,
            "_view_module": "@jupyter-widgets/controls",
            "_view_module_version": "1.5.0",
            "_view_name": "VBoxView",
            "box_style": "",
            "children": [
              "IPY_MODEL_70970a4c99e0408fab25a57e2bbc35df",
              "IPY_MODEL_7b399d59f0284df28aaa0208f4d7455d",
              "IPY_MODEL_8ea6108cfd7047be8c952f23bcacc74d"
            ],
            "layout": "IPY_MODEL_27f0defc6e9f4e298c1d79f497fbf225"
          }
        },
        "70970a4c99e0408fab25a57e2bbc35df": {
          "model_module": "@jupyter-widgets/controls",
          "model_name": "IntSliderModel",
          "state": {
            "_dom_classes": [],
            "_model_module": "@jupyter-widgets/controls",
            "_model_module_version": "1.5.0",
            "_model_name": "IntSliderModel",
            "_view_count": null,
            "_view_module": "@jupyter-widgets/controls",
            "_view_module_version": "1.5.0",
            "_view_name": "IntSliderView",
            "continuous_update": true,
            "description": "max_depth",
            "description_tooltip": null,
            "disabled": false,
            "layout": "IPY_MODEL_7cf413bf469b4652a7732f9662a9148f",
            "max": 6,
            "min": 1,
            "orientation": "horizontal",
            "readout": true,
            "readout_format": "d",
            "step": 1,
            "style": "IPY_MODEL_78d31f0ebb384b55a2dde9a7342ea470",
            "value": 6
          }
        },
        "7b399d59f0284df28aaa0208f4d7455d": {
          "model_module": "@jupyter-widgets/controls",
          "model_name": "IntSliderModel",
          "state": {
            "_dom_classes": [],
            "_model_module": "@jupyter-widgets/controls",
            "_model_module_version": "1.5.0",
            "_model_name": "IntSliderModel",
            "_view_count": null,
            "_view_module": "@jupyter-widgets/controls",
            "_view_module_version": "1.5.0",
            "_view_name": "IntSliderView",
            "continuous_update": true,
            "description": "n_estimators",
            "description_tooltip": null,
            "disabled": false,
            "layout": "IPY_MODEL_78a7e765572d47b1ba45d382a609204e",
            "max": 40,
            "min": 10,
            "orientation": "horizontal",
            "readout": true,
            "readout_format": "d",
            "step": 10,
            "style": "IPY_MODEL_722be04a24be4729b92c13d3a23cd6db",
            "value": 40
          }
        },
        "8ea6108cfd7047be8c952f23bcacc74d": {
          "model_module": "@jupyter-widgets/output",
          "model_name": "OutputModel",
          "state": {
            "_dom_classes": [],
            "_model_module": "@jupyter-widgets/output",
            "_model_module_version": "1.0.0",
            "_model_name": "OutputModel",
            "_view_count": null,
            "_view_module": "@jupyter-widgets/output",
            "_view_module_version": "1.0.0",
            "_view_name": "OutputView",
            "layout": "IPY_MODEL_1af0597bec2240bdbee3deb85bb126da",
            "msg_id": "",
            "outputs": [
              {
                "image/png": "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\n",
                "metadata": {
                  "needs_background": "light",
                  "tags": []
                },
                "output_type": "display_data",
                "text/plain": "<Figure size 432x288 with 1 Axes>"
              },
              {
                "image/png": "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\n",
                "metadata": {
                  "needs_background": "light",
                  "tags": []
                },
                "output_type": "display_data",
                "text/plain": "<Figure size 432x288 with 1 Axes>"
              }
            ]
          }
        },
        "27f0defc6e9f4e298c1d79f497fbf225": {
          "model_module": "@jupyter-widgets/base",
          "model_name": "LayoutModel",
          "state": {
            "_model_module": "@jupyter-widgets/base",
            "_model_module_version": "1.2.0",
            "_model_name": "LayoutModel",
            "_view_count": null,
            "_view_module": "@jupyter-widgets/base",
            "_view_module_version": "1.2.0",
            "_view_name": "LayoutView",
            "align_content": null,
            "align_items": null,
            "align_self": null,
            "border": null,
            "bottom": null,
            "display": null,
            "flex": null,
            "flex_flow": null,
            "grid_area": null,
            "grid_auto_columns": null,
            "grid_auto_flow": null,
            "grid_auto_rows": null,
            "grid_column": null,
            "grid_gap": null,
            "grid_row": null,
            "grid_template_areas": null,
            "grid_template_columns": null,
            "grid_template_rows": null,
            "height": null,
            "justify_content": null,
            "justify_items": null,
            "left": null,
            "margin": null,
            "max_height": null,
            "max_width": null,
            "min_height": null,
            "min_width": null,
            "object_fit": null,
            "object_position": null,
            "order": null,
            "overflow": null,
            "overflow_x": null,
            "overflow_y": null,
            "padding": null,
            "right": null,
            "top": null,
            "visibility": null,
            "width": null
          }
        },
        "7cf413bf469b4652a7732f9662a9148f": {
          "model_module": "@jupyter-widgets/base",
          "model_name": "LayoutModel",
          "state": {
            "_model_module": "@jupyter-widgets/base",
            "_model_module_version": "1.2.0",
            "_model_name": "LayoutModel",
            "_view_count": null,
            "_view_module": "@jupyter-widgets/base",
            "_view_module_version": "1.2.0",
            "_view_name": "LayoutView",
            "align_content": null,
            "align_items": null,
            "align_self": null,
            "border": null,
            "bottom": null,
            "display": null,
            "flex": null,
            "flex_flow": null,
            "grid_area": null,
            "grid_auto_columns": null,
            "grid_auto_flow": null,
            "grid_auto_rows": null,
            "grid_column": null,
            "grid_gap": null,
            "grid_row": null,
            "grid_template_areas": null,
            "grid_template_columns": null,
            "grid_template_rows": null,
            "height": null,
            "justify_content": null,
            "justify_items": null,
            "left": null,
            "margin": null,
            "max_height": null,
            "max_width": null,
            "min_height": null,
            "min_width": null,
            "object_fit": null,
            "object_position": null,
            "order": null,
            "overflow": null,
            "overflow_x": null,
            "overflow_y": null,
            "padding": null,
            "right": null,
            "top": null,
            "visibility": null,
            "width": null
          }
        },
        "78d31f0ebb384b55a2dde9a7342ea470": {
          "model_module": "@jupyter-widgets/controls",
          "model_name": "SliderStyleModel",
          "state": {
            "_model_module": "@jupyter-widgets/controls",
            "_model_module_version": "1.5.0",
            "_model_name": "SliderStyleModel",
            "_view_count": null,
            "_view_module": "@jupyter-widgets/base",
            "_view_module_version": "1.2.0",
            "_view_name": "StyleView",
            "description_width": "",
            "handle_color": null
          }
        },
        "78a7e765572d47b1ba45d382a609204e": {
          "model_module": "@jupyter-widgets/base",
          "model_name": "LayoutModel",
          "state": {
            "_model_module": "@jupyter-widgets/base",
            "_model_module_version": "1.2.0",
            "_model_name": "LayoutModel",
            "_view_count": null,
            "_view_module": "@jupyter-widgets/base",
            "_view_module_version": "1.2.0",
            "_view_name": "LayoutView",
            "align_content": null,
            "align_items": null,
            "align_self": null,
            "border": null,
            "bottom": null,
            "display": null,
            "flex": null,
            "flex_flow": null,
            "grid_area": null,
            "grid_auto_columns": null,
            "grid_auto_flow": null,
            "grid_auto_rows": null,
            "grid_column": null,
            "grid_gap": null,
            "grid_row": null,
            "grid_template_areas": null,
            "grid_template_columns": null,
            "grid_template_rows": null,
            "height": null,
            "justify_content": null,
            "justify_items": null,
            "left": null,
            "margin": null,
            "max_height": null,
            "max_width": null,
            "min_height": null,
            "min_width": null,
            "object_fit": null,
            "object_position": null,
            "order": null,
            "overflow": null,
            "overflow_x": null,
            "overflow_y": null,
            "padding": null,
            "right": null,
            "top": null,
            "visibility": null,
            "width": null
          }
        },
        "722be04a24be4729b92c13d3a23cd6db": {
          "model_module": "@jupyter-widgets/controls",
          "model_name": "SliderStyleModel",
          "state": {
            "_model_module": "@jupyter-widgets/controls",
            "_model_module_version": "1.5.0",
            "_model_name": "SliderStyleModel",
            "_view_count": null,
            "_view_module": "@jupyter-widgets/base",
            "_view_module_version": "1.2.0",
            "_view_name": "StyleView",
            "description_width": "",
            "handle_color": null
          }
        },
        "1af0597bec2240bdbee3deb85bb126da": {
          "model_module": "@jupyter-widgets/base",
          "model_name": "LayoutModel",
          "state": {
            "_model_module": "@jupyter-widgets/base",
            "_model_module_version": "1.2.0",
            "_model_name": "LayoutModel",
            "_view_count": null,
            "_view_module": "@jupyter-widgets/base",
            "_view_module_version": "1.2.0",
            "_view_name": "LayoutView",
            "align_content": null,
            "align_items": null,
            "align_self": null,
            "border": null,
            "bottom": null,
            "display": null,
            "flex": null,
            "flex_flow": null,
            "grid_area": null,
            "grid_auto_columns": null,
            "grid_auto_flow": null,
            "grid_auto_rows": null,
            "grid_column": null,
            "grid_gap": null,
            "grid_row": null,
            "grid_template_areas": null,
            "grid_template_columns": null,
            "grid_template_rows": null,
            "height": null,
            "justify_content": null,
            "justify_items": null,
            "left": null,
            "margin": null,
            "max_height": null,
            "max_width": null,
            "min_height": null,
            "min_width": null,
            "object_fit": null,
            "object_position": null,
            "order": null,
            "overflow": null,
            "overflow_x": null,
            "overflow_y": null,
            "padding": null,
            "right": null,
            "top": null,
            "visibility": null,
            "width": null
          }
        },
        "ad7c4dca2ee344418a1c9550b4082bb7": {
          "model_module": "@jupyter-widgets/controls",
          "model_name": "VBoxModel",
          "state": {
            "_dom_classes": [
              "widget-interact"
            ],
            "_model_module": "@jupyter-widgets/controls",
            "_model_module_version": "1.5.0",
            "_model_name": "VBoxModel",
            "_view_count": null,
            "_view_module": "@jupyter-widgets/controls",
            "_view_module_version": "1.5.0",
            "_view_name": "VBoxView",
            "box_style": "",
            "children": [
              "IPY_MODEL_de5bba6539a54a0ca1ee56e1ecfa76a2",
              "IPY_MODEL_405f1890e1e748d3bb72cb474961949a",
              "IPY_MODEL_72d7936338844ec7adc410214da5ff7a"
            ],
            "layout": "IPY_MODEL_d9fc68fd1e0b494ead6a19e4db5e9710"
          }
        },
        "de5bba6539a54a0ca1ee56e1ecfa76a2": {
          "model_module": "@jupyter-widgets/controls",
          "model_name": "IntSliderModel",
          "state": {
            "_dom_classes": [],
            "_model_module": "@jupyter-widgets/controls",
            "_model_module_version": "1.5.0",
            "_model_name": "IntSliderModel",
            "_view_count": null,
            "_view_module": "@jupyter-widgets/controls",
            "_view_module_version": "1.5.0",
            "_view_name": "IntSliderView",
            "continuous_update": true,
            "description": "max_depth",
            "description_tooltip": null,
            "disabled": false,
            "layout": "IPY_MODEL_60bea0f9264b4c1fbc594c7b2ed79f82",
            "max": 6,
            "min": 1,
            "orientation": "horizontal",
            "readout": true,
            "readout_format": "d",
            "step": 1,
            "style": "IPY_MODEL_c020687514e04fc897352ef1f420375b",
            "value": 4
          }
        },
        "405f1890e1e748d3bb72cb474961949a": {
          "model_module": "@jupyter-widgets/controls",
          "model_name": "IntSliderModel",
          "state": {
            "_dom_classes": [],
            "_model_module": "@jupyter-widgets/controls",
            "_model_module_version": "1.5.0",
            "_model_name": "IntSliderModel",
            "_view_count": null,
            "_view_module": "@jupyter-widgets/controls",
            "_view_module_version": "1.5.0",
            "_view_name": "IntSliderView",
            "continuous_update": true,
            "description": "n_estimators",
            "description_tooltip": null,
            "disabled": false,
            "layout": "IPY_MODEL_cd3db4718d5f46dc9b2ce60acb848d93",
            "max": 5,
            "min": 2,
            "orientation": "horizontal",
            "readout": true,
            "readout_format": "d",
            "step": 1,
            "style": "IPY_MODEL_4594567ec93148499e4ffb6dc777f154",
            "value": 3
          }
        },
        "72d7936338844ec7adc410214da5ff7a": {
          "model_module": "@jupyter-widgets/output",
          "model_name": "OutputModel",
          "state": {
            "_dom_classes": [],
            "_model_module": "@jupyter-widgets/output",
            "_model_module_version": "1.0.0",
            "_model_name": "OutputModel",
            "_view_count": null,
            "_view_module": "@jupyter-widgets/output",
            "_view_module_version": "1.0.0",
            "_view_name": "OutputView",
            "layout": "IPY_MODEL_2a73c08a114e4e7792979882f272a70c",
            "msg_id": "",
            "outputs": [
              {
                "image/png": "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\n",
                "metadata": {
                  "needs_background": "light",
                  "tags": []
                },
                "output_type": "display_data",
                "text/plain": "<Figure size 432x288 with 1 Axes>"
              },
              {
                "image/png": "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\n",
                "metadata": {
                  "needs_background": "light",
                  "tags": []
                },
                "output_type": "display_data",
                "text/plain": "<Figure size 432x288 with 1 Axes>"
              },
              {
                "image/png": "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\n",
                "metadata": {
                  "needs_background": "light",
                  "tags": []
                },
                "output_type": "display_data",
                "text/plain": "<Figure size 432x288 with 1 Axes>"
              },
              {
                "image/png": "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\n",
                "metadata": {
                  "needs_background": "light",
                  "tags": []
                },
                "output_type": "display_data",
                "text/plain": "<Figure size 432x288 with 1 Axes>"
              }
            ]
          }
        },
        "d9fc68fd1e0b494ead6a19e4db5e9710": {
          "model_module": "@jupyter-widgets/base",
          "model_name": "LayoutModel",
          "state": {
            "_model_module": "@jupyter-widgets/base",
            "_model_module_version": "1.2.0",
            "_model_name": "LayoutModel",
            "_view_count": null,
            "_view_module": "@jupyter-widgets/base",
            "_view_module_version": "1.2.0",
            "_view_name": "LayoutView",
            "align_content": null,
            "align_items": null,
            "align_self": null,
            "border": null,
            "bottom": null,
            "display": null,
            "flex": null,
            "flex_flow": null,
            "grid_area": null,
            "grid_auto_columns": null,
            "grid_auto_flow": null,
            "grid_auto_rows": null,
            "grid_column": null,
            "grid_gap": null,
            "grid_row": null,
            "grid_template_areas": null,
            "grid_template_columns": null,
            "grid_template_rows": null,
            "height": null,
            "justify_content": null,
            "justify_items": null,
            "left": null,
            "margin": null,
            "max_height": null,
            "max_width": null,
            "min_height": null,
            "min_width": null,
            "object_fit": null,
            "object_position": null,
            "order": null,
            "overflow": null,
            "overflow_x": null,
            "overflow_y": null,
            "padding": null,
            "right": null,
            "top": null,
            "visibility": null,
            "width": null
          }
        },
        "60bea0f9264b4c1fbc594c7b2ed79f82": {
          "model_module": "@jupyter-widgets/base",
          "model_name": "LayoutModel",
          "state": {
            "_model_module": "@jupyter-widgets/base",
            "_model_module_version": "1.2.0",
            "_model_name": "LayoutModel",
            "_view_count": null,
            "_view_module": "@jupyter-widgets/base",
            "_view_module_version": "1.2.0",
            "_view_name": "LayoutView",
            "align_content": null,
            "align_items": null,
            "align_self": null,
            "border": null,
            "bottom": null,
            "display": null,
            "flex": null,
            "flex_flow": null,
            "grid_area": null,
            "grid_auto_columns": null,
            "grid_auto_flow": null,
            "grid_auto_rows": null,
            "grid_column": null,
            "grid_gap": null,
            "grid_row": null,
            "grid_template_areas": null,
            "grid_template_columns": null,
            "grid_template_rows": null,
            "height": null,
            "justify_content": null,
            "justify_items": null,
            "left": null,
            "margin": null,
            "max_height": null,
            "max_width": null,
            "min_height": null,
            "min_width": null,
            "object_fit": null,
            "object_position": null,
            "order": null,
            "overflow": null,
            "overflow_x": null,
            "overflow_y": null,
            "padding": null,
            "right": null,
            "top": null,
            "visibility": null,
            "width": null
          }
        },
        "c020687514e04fc897352ef1f420375b": {
          "model_module": "@jupyter-widgets/controls",
          "model_name": "SliderStyleModel",
          "state": {
            "_model_module": "@jupyter-widgets/controls",
            "_model_module_version": "1.5.0",
            "_model_name": "SliderStyleModel",
            "_view_count": null,
            "_view_module": "@jupyter-widgets/base",
            "_view_module_version": "1.2.0",
            "_view_name": "StyleView",
            "description_width": "",
            "handle_color": null
          }
        },
        "cd3db4718d5f46dc9b2ce60acb848d93": {
          "model_module": "@jupyter-widgets/base",
          "model_name": "LayoutModel",
          "state": {
            "_model_module": "@jupyter-widgets/base",
            "_model_module_version": "1.2.0",
            "_model_name": "LayoutModel",
            "_view_count": null,
            "_view_module": "@jupyter-widgets/base",
            "_view_module_version": "1.2.0",
            "_view_name": "LayoutView",
            "align_content": null,
            "align_items": null,
            "align_self": null,
            "border": null,
            "bottom": null,
            "display": null,
            "flex": null,
            "flex_flow": null,
            "grid_area": null,
            "grid_auto_columns": null,
            "grid_auto_flow": null,
            "grid_auto_rows": null,
            "grid_column": null,
            "grid_gap": null,
            "grid_row": null,
            "grid_template_areas": null,
            "grid_template_columns": null,
            "grid_template_rows": null,
            "height": null,
            "justify_content": null,
            "justify_items": null,
            "left": null,
            "margin": null,
            "max_height": null,
            "max_width": null,
            "min_height": null,
            "min_width": null,
            "object_fit": null,
            "object_position": null,
            "order": null,
            "overflow": null,
            "overflow_x": null,
            "overflow_y": null,
            "padding": null,
            "right": null,
            "top": null,
            "visibility": null,
            "width": null
          }
        },
        "4594567ec93148499e4ffb6dc777f154": {
          "model_module": "@jupyter-widgets/controls",
          "model_name": "SliderStyleModel",
          "state": {
            "_model_module": "@jupyter-widgets/controls",
            "_model_module_version": "1.5.0",
            "_model_name": "SliderStyleModel",
            "_view_count": null,
            "_view_module": "@jupyter-widgets/base",
            "_view_module_version": "1.2.0",
            "_view_name": "StyleView",
            "description_width": "",
            "handle_color": null
          }
        },
        "2a73c08a114e4e7792979882f272a70c": {
          "model_module": "@jupyter-widgets/base",
          "model_name": "LayoutModel",
          "state": {
            "_model_module": "@jupyter-widgets/base",
            "_model_module_version": "1.2.0",
            "_model_name": "LayoutModel",
            "_view_count": null,
            "_view_module": "@jupyter-widgets/base",
            "_view_module_version": "1.2.0",
            "_view_name": "LayoutView",
            "align_content": null,
            "align_items": null,
            "align_self": null,
            "border": null,
            "bottom": null,
            "display": null,
            "flex": null,
            "flex_flow": null,
            "grid_area": null,
            "grid_auto_columns": null,
            "grid_auto_flow": null,
            "grid_auto_rows": null,
            "grid_column": null,
            "grid_gap": null,
            "grid_row": null,
            "grid_template_areas": null,
            "grid_template_columns": null,
            "grid_template_rows": null,
            "height": null,
            "justify_content": null,
            "justify_items": null,
            "left": null,
            "margin": null,
            "max_height": null,
            "max_width": null,
            "min_height": null,
            "min_width": null,
            "object_fit": null,
            "object_position": null,
            "order": null,
            "overflow": null,
            "overflow_x": null,
            "overflow_y": null,
            "padding": null,
            "right": null,
            "top": null,
            "visibility": null,
            "width": null
          }
        },
        "67c23f3cf94b48cabe1156337de10785": {
          "model_module": "@jupyter-widgets/controls",
          "model_name": "VBoxModel",
          "state": {
            "_dom_classes": [
              "widget-interact"
            ],
            "_model_module": "@jupyter-widgets/controls",
            "_model_module_version": "1.5.0",
            "_model_name": "VBoxModel",
            "_view_count": null,
            "_view_module": "@jupyter-widgets/controls",
            "_view_module_version": "1.5.0",
            "_view_name": "VBoxView",
            "box_style": "",
            "children": [
              "IPY_MODEL_9d585d57c3614f5ab5360ffc12810909",
              "IPY_MODEL_6c3572067fc6454b95efbe5e9831cbda",
              "IPY_MODEL_b82080b6139c46a2ba2253c86df5152d"
            ],
            "layout": "IPY_MODEL_c9f5477f524941478bcec55ed18b5b48"
          }
        },
        "9d585d57c3614f5ab5360ffc12810909": {
          "model_module": "@jupyter-widgets/controls",
          "model_name": "IntSliderModel",
          "state": {
            "_dom_classes": [],
            "_model_module": "@jupyter-widgets/controls",
            "_model_module_version": "1.5.0",
            "_model_name": "IntSliderModel",
            "_view_count": null,
            "_view_module": "@jupyter-widgets/controls",
            "_view_module_version": "1.5.0",
            "_view_name": "IntSliderView",
            "continuous_update": true,
            "description": "max_depth",
            "description_tooltip": null,
            "disabled": false,
            "layout": "IPY_MODEL_eb5aeeec075b48bd9646d7936b62f095",
            "max": 6,
            "min": 1,
            "orientation": "horizontal",
            "readout": true,
            "readout_format": "d",
            "step": 1,
            "style": "IPY_MODEL_2fb8362388754d84a4da9d49d475125a",
            "value": 1
          }
        },
        "6c3572067fc6454b95efbe5e9831cbda": {
          "model_module": "@jupyter-widgets/controls",
          "model_name": "IntSliderModel",
          "state": {
            "_dom_classes": [],
            "_model_module": "@jupyter-widgets/controls",
            "_model_module_version": "1.5.0",
            "_model_name": "IntSliderModel",
            "_view_count": null,
            "_view_module": "@jupyter-widgets/controls",
            "_view_module_version": "1.5.0",
            "_view_name": "IntSliderView",
            "continuous_update": true,
            "description": "n_estimators",
            "description_tooltip": null,
            "disabled": false,
            "layout": "IPY_MODEL_bf8b7870a1094359b98a6db5e3bf0e06",
            "max": 40,
            "min": 10,
            "orientation": "horizontal",
            "readout": true,
            "readout_format": "d",
            "step": 10,
            "style": "IPY_MODEL_80153fde065141d7ad7c64b9c5b1c533",
            "value": 10
          }
        },
        "b82080b6139c46a2ba2253c86df5152d": {
          "model_module": "@jupyter-widgets/output",
          "model_name": "OutputModel",
          "state": {
            "_dom_classes": [],
            "_model_module": "@jupyter-widgets/output",
            "_model_module_version": "1.0.0",
            "_model_name": "OutputModel",
            "_view_count": null,
            "_view_module": "@jupyter-widgets/output",
            "_view_module_version": "1.0.0",
            "_view_name": "OutputView",
            "layout": "IPY_MODEL_438007107eff4bf5b9c5b0528415928e",
            "msg_id": "",
            "outputs": [
              {
                "image/png": "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\n",
                "metadata": {
                  "needs_background": "light",
                  "tags": []
                },
                "output_type": "display_data",
                "text/plain": "<Figure size 432x288 with 2 Axes>"
              },
              {
                "image/png": "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\n",
                "metadata": {
                  "needs_background": "light",
                  "tags": []
                },
                "output_type": "display_data",
                "text/plain": "<Figure size 432x288 with 2 Axes>"
              },
              {
                "image/png": "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\n",
                "metadata": {
                  "needs_background": "light",
                  "tags": []
                },
                "output_type": "display_data",
                "text/plain": "<Figure size 432x288 with 2 Axes>"
              }
            ]
          }
        },
        "c9f5477f524941478bcec55ed18b5b48": {
          "model_module": "@jupyter-widgets/base",
          "model_name": "LayoutModel",
          "state": {
            "_model_module": "@jupyter-widgets/base",
            "_model_module_version": "1.2.0",
            "_model_name": "LayoutModel",
            "_view_count": null,
            "_view_module": "@jupyter-widgets/base",
            "_view_module_version": "1.2.0",
            "_view_name": "LayoutView",
            "align_content": null,
            "align_items": null,
            "align_self": null,
            "border": null,
            "bottom": null,
            "display": null,
            "flex": null,
            "flex_flow": null,
            "grid_area": null,
            "grid_auto_columns": null,
            "grid_auto_flow": null,
            "grid_auto_rows": null,
            "grid_column": null,
            "grid_gap": null,
            "grid_row": null,
            "grid_template_areas": null,
            "grid_template_columns": null,
            "grid_template_rows": null,
            "height": null,
            "justify_content": null,
            "justify_items": null,
            "left": null,
            "margin": null,
            "max_height": null,
            "max_width": null,
            "min_height": null,
            "min_width": null,
            "object_fit": null,
            "object_position": null,
            "order": null,
            "overflow": null,
            "overflow_x": null,
            "overflow_y": null,
            "padding": null,
            "right": null,
            "top": null,
            "visibility": null,
            "width": null
          }
        },
        "eb5aeeec075b48bd9646d7936b62f095": {
          "model_module": "@jupyter-widgets/base",
          "model_name": "LayoutModel",
          "state": {
            "_model_module": "@jupyter-widgets/base",
            "_model_module_version": "1.2.0",
            "_model_name": "LayoutModel",
            "_view_count": null,
            "_view_module": "@jupyter-widgets/base",
            "_view_module_version": "1.2.0",
            "_view_name": "LayoutView",
            "align_content": null,
            "align_items": null,
            "align_self": null,
            "border": null,
            "bottom": null,
            "display": null,
            "flex": null,
            "flex_flow": null,
            "grid_area": null,
            "grid_auto_columns": null,
            "grid_auto_flow": null,
            "grid_auto_rows": null,
            "grid_column": null,
            "grid_gap": null,
            "grid_row": null,
            "grid_template_areas": null,
            "grid_template_columns": null,
            "grid_template_rows": null,
            "height": null,
            "justify_content": null,
            "justify_items": null,
            "left": null,
            "margin": null,
            "max_height": null,
            "max_width": null,
            "min_height": null,
            "min_width": null,
            "object_fit": null,
            "object_position": null,
            "order": null,
            "overflow": null,
            "overflow_x": null,
            "overflow_y": null,
            "padding": null,
            "right": null,
            "top": null,
            "visibility": null,
            "width": null
          }
        },
        "2fb8362388754d84a4da9d49d475125a": {
          "model_module": "@jupyter-widgets/controls",
          "model_name": "SliderStyleModel",
          "state": {
            "_model_module": "@jupyter-widgets/controls",
            "_model_module_version": "1.5.0",
            "_model_name": "SliderStyleModel",
            "_view_count": null,
            "_view_module": "@jupyter-widgets/base",
            "_view_module_version": "1.2.0",
            "_view_name": "StyleView",
            "description_width": "",
            "handle_color": null
          }
        },
        "bf8b7870a1094359b98a6db5e3bf0e06": {
          "model_module": "@jupyter-widgets/base",
          "model_name": "LayoutModel",
          "state": {
            "_model_module": "@jupyter-widgets/base",
            "_model_module_version": "1.2.0",
            "_model_name": "LayoutModel",
            "_view_count": null,
            "_view_module": "@jupyter-widgets/base",
            "_view_module_version": "1.2.0",
            "_view_name": "LayoutView",
            "align_content": null,
            "align_items": null,
            "align_self": null,
            "border": null,
            "bottom": null,
            "display": null,
            "flex": null,
            "flex_flow": null,
            "grid_area": null,
            "grid_auto_columns": null,
            "grid_auto_flow": null,
            "grid_auto_rows": null,
            "grid_column": null,
            "grid_gap": null,
            "grid_row": null,
            "grid_template_areas": null,
            "grid_template_columns": null,
            "grid_template_rows": null,
            "height": null,
            "justify_content": null,
            "justify_items": null,
            "left": null,
            "margin": null,
            "max_height": null,
            "max_width": null,
            "min_height": null,
            "min_width": null,
            "object_fit": null,
            "object_position": null,
            "order": null,
            "overflow": null,
            "overflow_x": null,
            "overflow_y": null,
            "padding": null,
            "right": null,
            "top": null,
            "visibility": null,
            "width": null
          }
        },
        "80153fde065141d7ad7c64b9c5b1c533": {
          "model_module": "@jupyter-widgets/controls",
          "model_name": "SliderStyleModel",
          "state": {
            "_model_module": "@jupyter-widgets/controls",
            "_model_module_version": "1.5.0",
            "_model_name": "SliderStyleModel",
            "_view_count": null,
            "_view_module": "@jupyter-widgets/base",
            "_view_module_version": "1.2.0",
            "_view_name": "StyleView",
            "description_width": "",
            "handle_color": null
          }
        },
        "438007107eff4bf5b9c5b0528415928e": {
          "model_module": "@jupyter-widgets/base",
          "model_name": "LayoutModel",
          "state": {
            "_model_module": "@jupyter-widgets/base",
            "_model_module_version": "1.2.0",
            "_model_name": "LayoutModel",
            "_view_count": null,
            "_view_module": "@jupyter-widgets/base",
            "_view_module_version": "1.2.0",
            "_view_name": "LayoutView",
            "align_content": null,
            "align_items": null,
            "align_self": null,
            "border": null,
            "bottom": null,
            "display": null,
            "flex": null,
            "flex_flow": null,
            "grid_area": null,
            "grid_auto_columns": null,
            "grid_auto_flow": null,
            "grid_auto_rows": null,
            "grid_column": null,
            "grid_gap": null,
            "grid_row": null,
            "grid_template_areas": null,
            "grid_template_columns": null,
            "grid_template_rows": null,
            "height": null,
            "justify_content": null,
            "justify_items": null,
            "left": null,
            "margin": null,
            "max_height": null,
            "max_width": null,
            "min_height": null,
            "min_width": null,
            "object_fit": null,
            "object_position": null,
            "order": null,
            "overflow": null,
            "overflow_x": null,
            "overflow_y": null,
            "padding": null,
            "right": null,
            "top": null,
            "visibility": null,
            "width": null
          }
        },
        "86919dc362964f26868298f5c0ad006c": {
          "model_module": "@jupyter-widgets/controls",
          "model_name": "VBoxModel",
          "state": {
            "_dom_classes": [
              "widget-interact"
            ],
            "_model_module": "@jupyter-widgets/controls",
            "_model_module_version": "1.5.0",
            "_model_name": "VBoxModel",
            "_view_count": null,
            "_view_module": "@jupyter-widgets/controls",
            "_view_module_version": "1.5.0",
            "_view_name": "VBoxView",
            "box_style": "",
            "children": [
              "IPY_MODEL_5497204abada44cf89eaa965d7e3fd25",
              "IPY_MODEL_29656722c5354ee9b44fc737b07373db",
              "IPY_MODEL_f3d452c276c24b7d8c0cf8377b0e6347"
            ],
            "layout": "IPY_MODEL_0d0fbc11223f457b90d031e716dee43c"
          }
        },
        "5497204abada44cf89eaa965d7e3fd25": {
          "model_module": "@jupyter-widgets/controls",
          "model_name": "IntSliderModel",
          "state": {
            "_dom_classes": [],
            "_model_module": "@jupyter-widgets/controls",
            "_model_module_version": "1.5.0",
            "_model_name": "IntSliderModel",
            "_view_count": null,
            "_view_module": "@jupyter-widgets/controls",
            "_view_module_version": "1.5.0",
            "_view_name": "IntSliderView",
            "continuous_update": true,
            "description": "max_depth",
            "description_tooltip": null,
            "disabled": false,
            "layout": "IPY_MODEL_9f322537288f43babf83fcd9e9acdb83",
            "max": 6,
            "min": 1,
            "orientation": "horizontal",
            "readout": true,
            "readout_format": "d",
            "step": 1,
            "style": "IPY_MODEL_cd1b65b3959442a9a623b0244297dc0f",
            "value": 1
          }
        },
        "29656722c5354ee9b44fc737b07373db": {
          "model_module": "@jupyter-widgets/controls",
          "model_name": "IntSliderModel",
          "state": {
            "_dom_classes": [],
            "_model_module": "@jupyter-widgets/controls",
            "_model_module_version": "1.5.0",
            "_model_name": "IntSliderModel",
            "_view_count": null,
            "_view_module": "@jupyter-widgets/controls",
            "_view_module_version": "1.5.0",
            "_view_name": "IntSliderView",
            "continuous_update": true,
            "description": "n_estimators",
            "description_tooltip": null,
            "disabled": false,
            "layout": "IPY_MODEL_cc1ee52157304a6ba33d88fb683424ae",
            "max": 5,
            "min": 2,
            "orientation": "horizontal",
            "readout": true,
            "readout_format": "d",
            "step": 1,
            "style": "IPY_MODEL_182c1456853444b3a66a33d770ee726e",
            "value": 2
          }
        },
        "f3d452c276c24b7d8c0cf8377b0e6347": {
          "model_module": "@jupyter-widgets/output",
          "model_name": "OutputModel",
          "state": {
            "_dom_classes": [],
            "_model_module": "@jupyter-widgets/output",
            "_model_module_version": "1.0.0",
            "_model_name": "OutputModel",
            "_view_count": null,
            "_view_module": "@jupyter-widgets/output",
            "_view_module_version": "1.0.0",
            "_view_name": "OutputView",
            "layout": "IPY_MODEL_f7acf36d5e3d4e2da905cad92248f477",
            "msg_id": "",
            "outputs": [
              {
                "image/png": "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\n",
                "metadata": {
                  "needs_background": "light",
                  "tags": []
                },
                "output_type": "display_data",
                "text/plain": "<Figure size 432x288 with 2 Axes>"
              },
              {
                "image/png": "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\n",
                "metadata": {
                  "needs_background": "light",
                  "tags": []
                },
                "output_type": "display_data",
                "text/plain": "<Figure size 432x288 with 2 Axes>"
              },
              {
                "image/png": "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\n",
                "metadata": {
                  "needs_background": "light",
                  "tags": []
                },
                "output_type": "display_data",
                "text/plain": "<Figure size 432x288 with 2 Axes>"
              }
            ]
          }
        },
        "0d0fbc11223f457b90d031e716dee43c": {
          "model_module": "@jupyter-widgets/base",
          "model_name": "LayoutModel",
          "state": {
            "_model_module": "@jupyter-widgets/base",
            "_model_module_version": "1.2.0",
            "_model_name": "LayoutModel",
            "_view_count": null,
            "_view_module": "@jupyter-widgets/base",
            "_view_module_version": "1.2.0",
            "_view_name": "LayoutView",
            "align_content": null,
            "align_items": null,
            "align_self": null,
            "border": null,
            "bottom": null,
            "display": null,
            "flex": null,
            "flex_flow": null,
            "grid_area": null,
            "grid_auto_columns": null,
            "grid_auto_flow": null,
            "grid_auto_rows": null,
            "grid_column": null,
            "grid_gap": null,
            "grid_row": null,
            "grid_template_areas": null,
            "grid_template_columns": null,
            "grid_template_rows": null,
            "height": null,
            "justify_content": null,
            "justify_items": null,
            "left": null,
            "margin": null,
            "max_height": null,
            "max_width": null,
            "min_height": null,
            "min_width": null,
            "object_fit": null,
            "object_position": null,
            "order": null,
            "overflow": null,
            "overflow_x": null,
            "overflow_y": null,
            "padding": null,
            "right": null,
            "top": null,
            "visibility": null,
            "width": null
          }
        },
        "9f322537288f43babf83fcd9e9acdb83": {
          "model_module": "@jupyter-widgets/base",
          "model_name": "LayoutModel",
          "state": {
            "_model_module": "@jupyter-widgets/base",
            "_model_module_version": "1.2.0",
            "_model_name": "LayoutModel",
            "_view_count": null,
            "_view_module": "@jupyter-widgets/base",
            "_view_module_version": "1.2.0",
            "_view_name": "LayoutView",
            "align_content": null,
            "align_items": null,
            "align_self": null,
            "border": null,
            "bottom": null,
            "display": null,
            "flex": null,
            "flex_flow": null,
            "grid_area": null,
            "grid_auto_columns": null,
            "grid_auto_flow": null,
            "grid_auto_rows": null,
            "grid_column": null,
            "grid_gap": null,
            "grid_row": null,
            "grid_template_areas": null,
            "grid_template_columns": null,
            "grid_template_rows": null,
            "height": null,
            "justify_content": null,
            "justify_items": null,
            "left": null,
            "margin": null,
            "max_height": null,
            "max_width": null,
            "min_height": null,
            "min_width": null,
            "object_fit": null,
            "object_position": null,
            "order": null,
            "overflow": null,
            "overflow_x": null,
            "overflow_y": null,
            "padding": null,
            "right": null,
            "top": null,
            "visibility": null,
            "width": null
          }
        },
        "cd1b65b3959442a9a623b0244297dc0f": {
          "model_module": "@jupyter-widgets/controls",
          "model_name": "SliderStyleModel",
          "state": {
            "_model_module": "@jupyter-widgets/controls",
            "_model_module_version": "1.5.0",
            "_model_name": "SliderStyleModel",
            "_view_count": null,
            "_view_module": "@jupyter-widgets/base",
            "_view_module_version": "1.2.0",
            "_view_name": "StyleView",
            "description_width": "",
            "handle_color": null
          }
        },
        "cc1ee52157304a6ba33d88fb683424ae": {
          "model_module": "@jupyter-widgets/base",
          "model_name": "LayoutModel",
          "state": {
            "_model_module": "@jupyter-widgets/base",
            "_model_module_version": "1.2.0",
            "_model_name": "LayoutModel",
            "_view_count": null,
            "_view_module": "@jupyter-widgets/base",
            "_view_module_version": "1.2.0",
            "_view_name": "LayoutView",
            "align_content": null,
            "align_items": null,
            "align_self": null,
            "border": null,
            "bottom": null,
            "display": null,
            "flex": null,
            "flex_flow": null,
            "grid_area": null,
            "grid_auto_columns": null,
            "grid_auto_flow": null,
            "grid_auto_rows": null,
            "grid_column": null,
            "grid_gap": null,
            "grid_row": null,
            "grid_template_areas": null,
            "grid_template_columns": null,
            "grid_template_rows": null,
            "height": null,
            "justify_content": null,
            "justify_items": null,
            "left": null,
            "margin": null,
            "max_height": null,
            "max_width": null,
            "min_height": null,
            "min_width": null,
            "object_fit": null,
            "object_position": null,
            "order": null,
            "overflow": null,
            "overflow_x": null,
            "overflow_y": null,
            "padding": null,
            "right": null,
            "top": null,
            "visibility": null,
            "width": null
          }
        },
        "182c1456853444b3a66a33d770ee726e": {
          "model_module": "@jupyter-widgets/controls",
          "model_name": "SliderStyleModel",
          "state": {
            "_model_module": "@jupyter-widgets/controls",
            "_model_module_version": "1.5.0",
            "_model_name": "SliderStyleModel",
            "_view_count": null,
            "_view_module": "@jupyter-widgets/base",
            "_view_module_version": "1.2.0",
            "_view_name": "StyleView",
            "description_width": "",
            "handle_color": null
          }
        },
        "f7acf36d5e3d4e2da905cad92248f477": {
          "model_module": "@jupyter-widgets/base",
          "model_name": "LayoutModel",
          "state": {
            "_model_module": "@jupyter-widgets/base",
            "_model_module_version": "1.2.0",
            "_model_name": "LayoutModel",
            "_view_count": null,
            "_view_module": "@jupyter-widgets/base",
            "_view_module_version": "1.2.0",
            "_view_name": "LayoutView",
            "align_content": null,
            "align_items": null,
            "align_self": null,
            "border": null,
            "bottom": null,
            "display": null,
            "flex": null,
            "flex_flow": null,
            "grid_area": null,
            "grid_auto_columns": null,
            "grid_auto_flow": null,
            "grid_auto_rows": null,
            "grid_column": null,
            "grid_gap": null,
            "grid_row": null,
            "grid_template_areas": null,
            "grid_template_columns": null,
            "grid_template_rows": null,
            "height": null,
            "justify_content": null,
            "justify_items": null,
            "left": null,
            "margin": null,
            "max_height": null,
            "max_width": null,
            "min_height": null,
            "min_width": null,
            "object_fit": null,
            "object_position": null,
            "order": null,
            "overflow": null,
            "overflow_x": null,
            "overflow_y": null,
            "padding": null,
            "right": null,
            "top": null,
            "visibility": null,
            "width": null
          }
        }
      }
    }
  },
  "cells": [
    {
      "cell_type": "markdown",
      "metadata": {
        "id": "view-in-github",
        "colab_type": "text"
      },
      "source": [
        "<a href=\"https://colab.research.google.com/github/ik-okoro/DS-Unit-2-Kaggle-Challenge/blob/master/module2-random-forests/LS_DS_222.ipynb\" target=\"_parent\"><img src=\"https://colab.research.google.com/assets/colab-badge.svg\" alt=\"Open In Colab\"/></a>"
      ]
    },
    {
      "cell_type": "markdown",
      "metadata": {
        "id": "sP8WFYbgxx_R"
      },
      "source": [
        "Lambda School Data Science\n",
        "\n",
        "*Unit 2, Sprint 2, Module 2*\n",
        "\n",
        "---"
      ]
    },
    {
      "cell_type": "markdown",
      "metadata": {
        "id": "h32a-w5qxx_W"
      },
      "source": [
        "# Random Forests"
      ]
    },
    {
      "cell_type": "markdown",
      "metadata": {
        "id": "yirIVT4wxx_Y"
      },
      "source": [
        "- use scikit-learn for **random forests**\n",
        "- do **ordinal encoding** with high-cardinality categoricals\n",
        "- understand how categorical encodings affect trees differently compared to linear models\n",
        "- understand how tree ensembles reduce overfitting compared to a single decision tree with unlimited depth"
      ]
    },
    {
      "cell_type": "markdown",
      "metadata": {
        "id": "sCAGWAq0xx_a"
      },
      "source": [
        "Today's lesson has two take-away messages:\n",
        "\n",
        "#### Try Tree Ensembles when you do machine learning with labeled, tabular data\n",
        "- \"Tree Ensembles\" means Random Forest or Gradient Boosting models. \n",
        "- [Tree Ensembles often have the best predictive accuracy](https://arxiv.org/abs/1708.05070) with labeled, tabular data.\n",
        "- Why? Because trees can fit non-linear, non-[monotonic](https://en.wikipedia.org/wiki/Monotonic_function) relationships, and [interactions](https://christophm.github.io/interpretable-ml-book/interaction.html) between features.\n",
        "- A single decision tree, grown to unlimited depth, will [overfit](http://www.r2d3.us/visual-intro-to-machine-learning-part-1/). We solve this problem by ensembling trees, with bagging (Random Forest) or boosting (Gradient Boosting).\n",
        "- Random Forest's advantage: may be less sensitive to hyperparameters. Gradient Boosting's advantage: may get better predictive accuracy.\n",
        "\n",
        "#### One-hot encoding isn’t the only way, and may not be the best way, of categorical encoding for tree ensembles.\n",
        "- For example, tree ensembles can work with arbitrary \"ordinal\" encoding! (Randomly assigning an integer to each category.) Compared to one-hot encoding, the dimensionality will be lower, and the predictive accuracy may be just as good or even better.\n"
      ]
    },
    {
      "cell_type": "markdown",
      "metadata": {
        "id": "MAXRc41Yxx_b"
      },
      "source": [
        "### Setup\n",
        "\n",
        "Run the code cell below. You can work locally (follow the [local setup instructions](https://lambdaschool.github.io/ds/unit2/local/)) or on Colab.\n",
        "\n",
        "Libraries\n",
        "\n",
        "- **category_encoders** \n",
        "- **graphviz**\n",
        "- ipywidgets\n",
        "- matplotlib\n",
        "- numpy\n",
        "- pandas\n",
        "- seaborn\n",
        "- scikit-learn"
      ]
    },
    {
      "cell_type": "code",
      "metadata": {
        "id": "V1Q06ztBxx_d"
      },
      "source": [
        "%%capture\n",
        "import sys\n",
        "\n",
        "# If you're on Colab:\n",
        "if 'google.colab' in sys.modules:\n",
        "    DATA_PATH = 'https://raw.githubusercontent.com/LambdaSchool/DS-Unit-2-Kaggle-Challenge/master/data/'\n",
        "    !pip install category_encoders==2.*\n",
        "\n",
        "# If you're working locally:\n",
        "else:\n",
        "    DATA_PATH = '../data/'"
      ],
      "execution_count": null,
      "outputs": []
    },
    {
      "cell_type": "markdown",
      "metadata": {
        "id": "Z14bH4h2xx_q"
      },
      "source": [
        "# Use scikit-learn for random forests"
      ]
    },
    {
      "cell_type": "markdown",
      "metadata": {
        "id": "an01B63Jxx_s"
      },
      "source": [
        "## Overview\n",
        "\n",
        "Let's fit a Random Forest!\n",
        "\n",
        "![](https://pbs.twimg.com/media/EGSvKA0UUAEzUZi?format=png)\n",
        "\n",
        "[Chris Albon, MachineLearningFlashcards.com](https://twitter.com/chrisalbon/status/1181261589887909889)"
      ]
    },
    {
      "cell_type": "markdown",
      "metadata": {
        "id": "gWPGirnMxx_t"
      },
      "source": [
        "### Solution example\n",
        "\n",
        "First, read & wrangle the data.\n",
        "\n",
        "> Define a function to wrangle train, validate, and test sets in the same way. Clean outliers and engineer features. (For example, [what other columns have zeros and shouldn't?](https://github.com/Quartz/bad-data-guide#zeros-replace-missing-values) What other columns are duplicates, or nearly duplicates? Can you extract the year from date_recorded? Can you engineer new features, such as the number of years from waterpump construction to waterpump inspection?)"
      ]
    },
    {
      "cell_type": "code",
      "metadata": {
        "id": "WMayL_Huxx_y"
      },
      "source": [
        "import numpy as np\n",
        "import pandas as pd\n",
        "from sklearn.model_selection import train_test_split\n",
        "\n",
        "# Merge train_features.csv & train_labels.csv\n",
        "train = pd.merge(pd.read_csv(DATA_PATH+'waterpumps/train_features.csv'), \n",
        "                 pd.read_csv(DATA_PATH+'waterpumps/train_labels.csv'))\n",
        "\n",
        "# Read test_features.csv & sample_submission.csv\n",
        "test = pd.read_csv(DATA_PATH+'waterpumps/test_features.csv')\n",
        "sample_submission = pd.read_csv(DATA_PATH+'waterpumps/sample_submission.csv')\n",
        "\n",
        "# Split train into train & val\n",
        "train, val = train_test_split(train, train_size=0.80, test_size=0.20, \n",
        "                              stratify=train['status_group'], random_state=42)\n",
        "\n",
        "\n",
        "def wrangle(X):\n",
        "    \"\"\"Wrangle train, validate, and test sets in the same way\"\"\"\n",
        "    \n",
        "    # Prevent SettingWithCopyWarning\n",
        "    X = X.copy()\n",
        "    \n",
        "    # About 3% of the time, latitude has small values near zero,\n",
        "    # outside Tanzania, so we'll treat these values like zero.\n",
        "    X['latitude'] = X['latitude'].replace(-2e-08, 0)\n",
        "    \n",
        "    # When columns have zeros and shouldn't, they are like null values.\n",
        "    # So we will replace the zeros with nulls, and impute missing values later.\n",
        "    # Also create a \"missing indicator\" column, because the fact that\n",
        "    # values are missing may be a predictive signal.\n",
        "    cols_with_zeros = ['longitude', 'latitude', 'construction_year', \n",
        "                       'gps_height', 'population']\n",
        "    for col in cols_with_zeros:\n",
        "        X[col] = X[col].replace(0, np.nan)\n",
        "        X[col+'_MISSING'] = X[col].isnull()\n",
        "            \n",
        "    # Drop duplicate columns\n",
        "    duplicates = ['quantity_group', 'payment_type']\n",
        "    X = X.drop(columns=duplicates)\n",
        "    \n",
        "    # Drop recorded_by (never varies) and id (always varies, random)\n",
        "    unusable_variance = ['recorded_by', 'id']\n",
        "    X = X.drop(columns=unusable_variance)\n",
        "    \n",
        "    # return the wrangled dataframe\n",
        "    return X\n",
        "\n",
        "train = wrangle(train)\n",
        "val = wrangle(val)\n",
        "test = wrangle(test)"
      ],
      "execution_count": null,
      "outputs": []
    },
    {
      "cell_type": "code",
      "metadata": {
        "id": "3cd3ad31xx_9",
        "outputId": "b69cc5b5-8e39-48fb-9118-a97920e153dd"
      },
      "source": [
        "# The status_group column is the target\n",
        "target = 'status_group'\n",
        "\n",
        "# Get a dataframe with all train columns except the target\n",
        "train_features = train.drop(columns=[target])\n",
        "\n",
        "# Get a list of the numeric features\n",
        "numeric_features = train_features.select_dtypes(include='number').columns.tolist()\n",
        "\n",
        "# Get a series with the cardinality of the nonnumeric features\n",
        "cardinality = train_features.select_dtypes(exclude='number').nunique()\n",
        "\n",
        "# Get a list of all categorical features with cardinality <= 50\n",
        "categorical_features = cardinality[cardinality <= 50].index.tolist()\n",
        "\n",
        "# Combine the lists \n",
        "features = numeric_features + categorical_features\n",
        "cardinality"
      ],
      "execution_count": null,
      "outputs": [
        {
          "output_type": "execute_result",
          "data": {
            "text/plain": [
              "date_recorded                  349\n",
              "funder                        1716\n",
              "installer                     1929\n",
              "wpt_name                     30661\n",
              "basin                            9\n",
              "subvillage                   17231\n",
              "region                          21\n",
              "lga                            124\n",
              "ward                          2082\n",
              "public_meeting                   2\n",
              "scheme_management               12\n",
              "scheme_name                   2563\n",
              "permit                           2\n",
              "extraction_type                 18\n",
              "extraction_type_group           13\n",
              "extraction_type_class            7\n",
              "management                      12\n",
              "management_group                 5\n",
              "payment                          7\n",
              "water_quality                    8\n",
              "quality_group                    6\n",
              "quantity                         5\n",
              "source                          10\n",
              "source_type                      7\n",
              "source_class                     3\n",
              "waterpoint_type                  7\n",
              "waterpoint_type_group            6\n",
              "longitude_MISSING                2\n",
              "latitude_MISSING                 2\n",
              "construction_year_MISSING        2\n",
              "gps_height_MISSING               2\n",
              "population_MISSING               2\n",
              "dtype: int64"
            ]
          },
          "metadata": {
            "tags": []
          },
          "execution_count": 40
        }
      ]
    },
    {
      "cell_type": "code",
      "metadata": {
        "id": "D7qlf3_oxyAJ"
      },
      "source": [
        "# Arrange data into X features matrix and y target vector \n",
        "X_train = train[features]\n",
        "y_train = train[target]\n",
        "X_val = val[features]\n",
        "y_val = val[target]\n",
        "X_test = test[features]"
      ],
      "execution_count": null,
      "outputs": []
    },
    {
      "cell_type": "markdown",
      "metadata": {
        "id": "4RBo6IxhxyAQ"
      },
      "source": [
        "## Follow Along\n",
        "\n",
        "[Scikit-Learn User Guide: Random Forests](https://scikit-learn.org/stable/modules/ensemble.html#random-forests) "
      ]
    },
    {
      "cell_type": "code",
      "metadata": {
        "id": "CNRax07kxyAT",
        "outputId": "cb0b38bd-32e6-4a62-8fa3-e627142d8352"
      },
      "source": [
        "# TODO\n",
        "\n",
        "# Select K-Best results in a decrease in accuracy over the vanilla RandomForest.\n",
        "%%time\n",
        "import category_encoders as ce\n",
        "from sklearn.ensemble import RandomForestClassifier\n",
        "from sklearn.impute import SimpleImputer\n",
        "from sklearn.pipeline import make_pipeline\n",
        "from sklearn.feature_selection import SelectKBest\n",
        "\n",
        "# Are selection methods like selectkbest necessary with tree based models? \\\\Doesnt the model do a good job itself of determining what features are relevant or not?\n",
        "pipeline = make_pipeline(\n",
        "    ce.OrdinalEncoder(),\n",
        "    SimpleImputer(strategy='median'),\n",
        "    SelectKBest(k=25),\n",
        "    RandomForestClassifier(random_state=0, n_jobs=-1)\n",
        ")\n",
        "\n",
        "pipeline.fit(X_train, y_train)\n",
        "print ('Validation Accuracy', pipeline.score(X_val, y_val))"
      ],
      "execution_count": null,
      "outputs": [
        {
          "output_type": "stream",
          "text": [
            "Validation Accuracy 0.7940235690235691\n",
            "CPU times: user 14.9 s, sys: 89.6 ms, total: 15 s\n",
            "Wall time: 8.55 s\n"
          ],
          "name": "stdout"
        }
      ]
    },
    {
      "cell_type": "code",
      "metadata": {
        "id": "jnLWNwcaxyAd",
        "outputId": "23a7b8ff-134f-4e10-ea71-ea4cdbc9d481"
      },
      "source": [
        "%matplotlib inline\n",
        "import matplotlib.pyplot as plt\n",
        "\n",
        "# Get feature importances\n",
        "encoder = pipeline.named_steps['onehotencoder']\n",
        "encoded = encoder.transform(X_train)\n",
        "\n",
        "rf = pipeline.named_steps['randomforestclassifier']\n",
        "importances = pd.Series(rf.feature_importances_, encoded.columns)\n",
        "\n",
        "# Plot top n feature importances\n",
        "n = 20\n",
        "plt.figure(figsize=(10,n/2))\n",
        "plt.title(f'Top {n} features')\n",
        "importances.sort_values()[-n:].plot.barh();"
      ],
      "execution_count": null,
      "outputs": [
        {
          "output_type": "display_data",
          "data": {
            "image/png": "[encoded data removed]",
            "text/plain": [
              "<Figure size 720x720 with 1 Axes>"
            ]
          },
          "metadata": {
            "tags": [],
            "needs_background": "light"
          }
        }
      ]
    },
    {
      "cell_type": "markdown",
      "metadata": {
        "id": "A11zrkEIxyAu"
      },
      "source": [
        "# Do ordinal encoding with high-cardinality categoricals"
      ]
    },
    {
      "cell_type": "markdown",
      "metadata": {
        "id": "-j_K-f30xyAx"
      },
      "source": [
        "## Overview\n",
        "\n",
        "http://contrib.scikit-learn.org/categorical-encoding/ordinal.html"
      ]
    },
    {
      "cell_type": "markdown",
      "metadata": {
        "id": "ucVt-MnrxyA2"
      },
      "source": [
        "## Follow Along"
      ]
    },
    {
      "cell_type": "code",
      "metadata": {
        "id": "qYnuqMdxxyA6"
      },
      "source": [
        "# TODO\n",
        "X_train = train.drop(columns=target)\n",
        "y_train = train[target]\n",
        "X_val = val.drop(columns=target)\n",
        "y_val = val[target]\n",
        "X_test = test"
      ],
      "execution_count": null,
      "outputs": []
    },
    {
      "cell_type": "code",
      "metadata": {
        "id": "eBSFIuqgxyBA",
        "outputId": "8e6ce363-1c7d-4c6d-cac2-cc7fb6a23b23"
      },
      "source": [
        "# TODO\n",
        "\n",
        "# Select K-Best results in a decrease in accuracy over the vanilla RandomForest.\n",
        "%%time\n",
        "import category_encoders as ce\n",
        "from sklearn.ensemble import RandomForestClassifier\n",
        "from sklearn.impute import SimpleImputer\n",
        "from sklearn.pipeline import make_pipeline\n",
        "\n",
        "pipeline = make_pipeline(\n",
        "    ce.OrdinalEncoder(),\n",
        "    SimpleImputer(strategy='median'),\n",
        "    RandomForestClassifier(random_state=0, n_jobs=-1)\n",
        ")\n",
        "\n",
        "pipeline.fit(X_train, y_train)\n",
        "print ('Validation Accuracy', pipeline.score(X_val, y_val))"
      ],
      "execution_count": null,
      "outputs": [
        {
          "output_type": "stream",
          "text": [
            "Validation Accuracy 0.8106902356902357\n",
            "CPU times: user 18.9 s, sys: 122 ms, total: 19 s\n",
            "Wall time: 10.4 s\n"
          ],
          "name": "stdout"
        }
      ]
    },
    {
      "cell_type": "markdown",
      "metadata": {
        "id": "p9569JzDxyBI"
      },
      "source": [
        "# Understand how categorical encodings affect trees differently compared to linear models"
      ]
    },
    {
      "cell_type": "markdown",
      "metadata": {
        "id": "LoR2lMM5xyBJ"
      },
      "source": [
        "## Follow Along"
      ]
    },
    {
      "cell_type": "markdown",
      "metadata": {
        "id": "K22vV7GIxyBK"
      },
      "source": [
        "### Categorical exploration, 1 feature at a time\n",
        "\n",
        "Change `feature`, then re-run these cells!"
      ]
    },
    {
      "cell_type": "code",
      "metadata": {
        "id": "wLPvnG8wxyBL"
      },
      "source": [
        "feature = 'extraction_type_class'"
      ],
      "execution_count": null,
      "outputs": []
    },
    {
      "cell_type": "code",
      "metadata": {
        "id": "q-KhaavExyBU",
        "outputId": "a50e7166-1602-4ddc-9485-e6cde429073a"
      },
      "source": [
        "X_train[feature].value_counts()"
      ],
      "execution_count": null,
      "outputs": [
        {
          "output_type": "execute_result",
          "data": {
            "text/plain": [
              "gravity         21448\n",
              "handpump        13184\n",
              "other            5193\n",
              "submersible      4894\n",
              "motorpump        2355\n",
              "rope pump         353\n",
              "wind-powered       93\n",
              "Name: extraction_type_class, dtype: int64"
            ]
          },
          "metadata": {
            "tags": []
          },
          "execution_count": 47
        }
      ]
    },
    {
      "cell_type": "code",
      "metadata": {
        "id": "8PIkKB1CxyBe",
        "outputId": "4439086c-30fb-4bf4-fc01-f1156f290c6e"
      },
      "source": [
        "import seaborn as sns\n",
        "plt.figure(figsize=(16,9))\n",
        "sns.barplot(\n",
        "    x=train[feature], \n",
        "    y=train['status_group']=='functional', \n",
        "    color='grey'\n",
        ");"
      ],
      "execution_count": null,
      "outputs": [
        {
          "output_type": "display_data",
          "data": {
            "image/png": "[encoded data removed]",
            "text/plain": [
              "<Figure size 1152x648 with 1 Axes>"
            ]
          },
          "metadata": {
            "tags": [],
            "needs_background": "light"
          }
        }
      ]
    },
    {
      "cell_type": "code",
      "metadata": {
        "id": "xWP2Bq1RxyBn",
        "outputId": "f40e2fbd-fea4-4258-ae45-ede1bfcf283c"
      },
      "source": [
        "X_train[feature].head(20)"
      ],
      "execution_count": null,
      "outputs": [
        {
          "output_type": "execute_result",
          "data": {
            "text/plain": [
              "43360        gravity\n",
              "7263         gravity\n",
              "2486        handpump\n",
              "313            other\n",
              "52726      motorpump\n",
              "8558         gravity\n",
              "2559         gravity\n",
              "54735      motorpump\n",
              "25763       handpump\n",
              "44540    submersible\n",
              "28603          other\n",
              "4372     submersible\n",
              "30666        gravity\n",
              "6431     submersible\n",
              "57420          other\n",
              "1373         gravity\n",
              "2026         gravity\n",
              "58977       handpump\n",
              "41101        gravity\n",
              "10019        gravity\n",
              "Name: extraction_type_class, dtype: object"
            ]
          },
          "metadata": {
            "tags": []
          },
          "execution_count": 49
        }
      ]
    },
    {
      "cell_type": "markdown",
      "metadata": {
        "id": "y7kvJVoixyBu"
      },
      "source": [
        "### [One Hot Encoding](http://contrib.scikit-learn.org/categorical-encoding/onehot.html)\n",
        "\n",
        "> Onehot (or dummy) coding for categorical features, produces one feature per category, each binary.\n",
        "\n",
        "Warning: May run slow, or run out of memory, with high cardinality categoricals!"
      ]
    },
    {
      "cell_type": "code",
      "metadata": {
        "id": "mzBpfwTOxyBw",
        "outputId": "63f7ce56-7fbd-4594-e14c-218422d69192"
      },
      "source": [
        "encoder = ce.OneHotEncoder(use_cat_names=True)\n",
        "encoded = encoder.fit_transform(X_train[[feature]])\n",
        "print(f'{len(encoded.columns)} columns')\n",
        "encoded.head(20)"
      ],
      "execution_count": null,
      "outputs": [
        {
          "output_type": "stream",
          "text": [
            "7 columns\n"
          ],
          "name": "stdout"
        },
        {
          "output_type": "execute_result",
          "data": {
            "text/html": [
              "<div>\n",
              "<style scoped>\n",
              "    .dataframe tbody tr th:only-of-type {\n",
              "        vertical-align: middle;\n",
              "    }\n",
              "\n",
              "    .dataframe tbody tr th {\n",
              "        vertical-align: top;\n",
              "    }\n",
              "\n",
              "    .dataframe thead th {\n",
              "        text-align: right;\n",
              "    }\n",
              "</style>\n",
              "<table border=\"1\" class=\"dataframe\">\n",
              "  <thead>\n",
              "    <tr style=\"text-align: right;\">\n",
              "      <th></th>\n",
              "      <th>extraction_type_class_gravity</th>\n",
              "      <th>extraction_type_class_handpump</th>\n",
              "      <th>extraction_type_class_other</th>\n",
              "      <th>extraction_type_class_motorpump</th>\n",
              "      <th>extraction_type_class_submersible</th>\n",
              "      <th>extraction_type_class_rope pump</th>\n",
              "      <th>extraction_type_class_wind-powered</th>\n",
              "    </tr>\n",
              "  </thead>\n",
              "  <tbody>\n",
              "    <tr>\n",
              "      <th>43360</th>\n",
              "      <td>1</td>\n",
              "      <td>0</td>\n",
              "      <td>0</td>\n",
              "      <td>0</td>\n",
              "      <td>0</td>\n",
              "      <td>0</td>\n",
              "      <td>0</td>\n",
              "    </tr>\n",
              "    <tr>\n",
              "      <th>7263</th>\n",
              "      <td>1</td>\n",
              "      <td>0</td>\n",
              "      <td>0</td>\n",
              "      <td>0</td>\n",
              "      <td>0</td>\n",
              "      <td>0</td>\n",
              "      <td>0</td>\n",
              "    </tr>\n",
              "    <tr>\n",
              "      <th>2486</th>\n",
              "      <td>0</td>\n",
              "      <td>1</td>\n",
              "      <td>0</td>\n",
              "      <td>0</td>\n",
              "      <td>0</td>\n",
              "      <td>0</td>\n",
              "      <td>0</td>\n",
              "    </tr>\n",
              "    <tr>\n",
              "      <th>313</th>\n",
              "      <td>0</td>\n",
              "      <td>0</td>\n",
              "      <td>1</td>\n",
              "      <td>0</td>\n",
              "      <td>0</td>\n",
              "      <td>0</td>\n",
              "      <td>0</td>\n",
              "    </tr>\n",
              "    <tr>\n",
              "      <th>52726</th>\n",
              "      <td>0</td>\n",
              "      <td>0</td>\n",
              "      <td>0</td>\n",
              "      <td>1</td>\n",
              "      <td>0</td>\n",
              "      <td>0</td>\n",
              "      <td>0</td>\n",
              "    </tr>\n",
              "    <tr>\n",
              "      <th>8558</th>\n",
              "      <td>1</td>\n",
              "      <td>0</td>\n",
              "      <td>0</td>\n",
              "      <td>0</td>\n",
              "      <td>0</td>\n",
              "      <td>0</td>\n",
              "      <td>0</td>\n",
              "    </tr>\n",
              "    <tr>\n",
              "      <th>2559</th>\n",
              "      <td>1</td>\n",
              "      <td>0</td>\n",
              "      <td>0</td>\n",
              "      <td>0</td>\n",
              "      <td>0</td>\n",
              "      <td>0</td>\n",
              "      <td>0</td>\n",
              "    </tr>\n",
              "    <tr>\n",
              "      <th>54735</th>\n",
              "      <td>0</td>\n",
              "      <td>0</td>\n",
              "      <td>0</td>\n",
              "      <td>1</td>\n",
              "      <td>0</td>\n",
              "      <td>0</td>\n",
              "      <td>0</td>\n",
              "    </tr>\n",
              "    <tr>\n",
              "      <th>25763</th>\n",
              "      <td>0</td>\n",
              "      <td>1</td>\n",
              "      <td>0</td>\n",
              "      <td>0</td>\n",
              "      <td>0</td>\n",
              "      <td>0</td>\n",
              "      <td>0</td>\n",
              "    </tr>\n",
              "    <tr>\n",
              "      <th>44540</th>\n",
              "      <td>0</td>\n",
              "      <td>0</td>\n",
              "      <td>0</td>\n",
              "      <td>0</td>\n",
              "      <td>1</td>\n",
              "      <td>0</td>\n",
              "      <td>0</td>\n",
              "    </tr>\n",
              "    <tr>\n",
              "      <th>28603</th>\n",
              "      <td>0</td>\n",
              "      <td>0</td>\n",
              "      <td>1</td>\n",
              "      <td>0</td>\n",
              "      <td>0</td>\n",
              "      <td>0</td>\n",
              "      <td>0</td>\n",
              "    </tr>\n",
              "    <tr>\n",
              "      <th>4372</th>\n",
              "      <td>0</td>\n",
              "      <td>0</td>\n",
              "      <td>0</td>\n",
              "      <td>0</td>\n",
              "      <td>1</td>\n",
              "      <td>0</td>\n",
              "      <td>0</td>\n",
              "    </tr>\n",
              "    <tr>\n",
              "      <th>30666</th>\n",
              "      <td>1</td>\n",
              "      <td>0</td>\n",
              "      <td>0</td>\n",
              "      <td>0</td>\n",
              "      <td>0</td>\n",
              "      <td>0</td>\n",
              "      <td>0</td>\n",
              "    </tr>\n",
              "    <tr>\n",
              "      <th>6431</th>\n",
              "      <td>0</td>\n",
              "      <td>0</td>\n",
              "      <td>0</td>\n",
              "      <td>0</td>\n",
              "      <td>1</td>\n",
              "      <td>0</td>\n",
              "      <td>0</td>\n",
              "    </tr>\n",
              "    <tr>\n",
              "      <th>57420</th>\n",
              "      <td>0</td>\n",
              "      <td>0</td>\n",
              "      <td>1</td>\n",
              "      <td>0</td>\n",
              "      <td>0</td>\n",
              "      <td>0</td>\n",
              "      <td>0</td>\n",
              "    </tr>\n",
              "    <tr>\n",
              "      <th>1373</th>\n",
              "      <td>1</td>\n",
              "      <td>0</td>\n",
              "      <td>0</td>\n",
              "      <td>0</td>\n",
              "      <td>0</td>\n",
              "      <td>0</td>\n",
              "      <td>0</td>\n",
              "    </tr>\n",
              "    <tr>\n",
              "      <th>2026</th>\n",
              "      <td>1</td>\n",
              "      <td>0</td>\n",
              "      <td>0</td>\n",
              "      <td>0</td>\n",
              "      <td>0</td>\n",
              "      <td>0</td>\n",
              "      <td>0</td>\n",
              "    </tr>\n",
              "    <tr>\n",
              "      <th>58977</th>\n",
              "      <td>0</td>\n",
              "      <td>1</td>\n",
              "      <td>0</td>\n",
              "      <td>0</td>\n",
              "      <td>0</td>\n",
              "      <td>0</td>\n",
              "      <td>0</td>\n",
              "    </tr>\n",
              "    <tr>\n",
              "      <th>41101</th>\n",
              "      <td>1</td>\n",
              "      <td>0</td>\n",
              "      <td>0</td>\n",
              "      <td>0</td>\n",
              "      <td>0</td>\n",
              "      <td>0</td>\n",
              "      <td>0</td>\n",
              "    </tr>\n",
              "    <tr>\n",
              "      <th>10019</th>\n",
              "      <td>1</td>\n",
              "      <td>0</td>\n",
              "      <td>0</td>\n",
              "      <td>0</td>\n",
              "      <td>0</td>\n",
              "      <td>0</td>\n",
              "      <td>0</td>\n",
              "    </tr>\n",
              "  </tbody>\n",
              "</table>\n",
              "</div>"
            ],
            "text/plain": [
              "       extraction_type_class_gravity  ...  extraction_type_class_wind-powered\n",
              "43360                              1  ...                                   0\n",
              "7263                               1  ...                                   0\n",
              "2486                               0  ...                                   0\n",
              "313                                0  ...                                   0\n",
              "52726                              0  ...                                   0\n",
              "8558                               1  ...                                   0\n",
              "2559                               1  ...                                   0\n",
              "54735                              0  ...                                   0\n",
              "25763                              0  ...                                   0\n",
              "44540                              0  ...                                   0\n",
              "28603                              0  ...                                   0\n",
              "4372                               0  ...                                   0\n",
              "30666                              1  ...                                   0\n",
              "6431                               0  ...                                   0\n",
              "57420                              0  ...                                   0\n",
              "1373                               1  ...                                   0\n",
              "2026                               1  ...                                   0\n",
              "58977                              0  ...                                   0\n",
              "41101                              1  ...                                   0\n",
              "10019                              1  ...                                   0\n",
              "\n",
              "[20 rows x 7 columns]"
            ]
          },
          "metadata": {
            "tags": []
          },
          "execution_count": 50
        }
      ]
    },
    {
      "cell_type": "markdown",
      "metadata": {
        "id": "d9MvIpWTxyB6"
      },
      "source": [
        "#### One-Hot Encoding, Logistic Regression, Validation Accuracy"
      ]
    },
    {
      "cell_type": "code",
      "metadata": {
        "id": "nZiCXC3mxyB7",
        "outputId": "a391d066-f66b-4b4c-d2b8-608a0c3d0d4f"
      },
      "source": [
        "%time\n",
        "from sklearn.linear_model import LogisticRegressionCV\n",
        "from sklearn.preprocessing import StandardScaler\n",
        "\n",
        "lr = make_pipeline(\n",
        "    ce.OneHotEncoder(use_cat_names=True), \n",
        "    SimpleImputer(), \n",
        "    StandardScaler(), \n",
        "    LogisticRegressionCV(multi_class='auto', solver='lbfgs', cv=5, n_jobs=-1)\n",
        ")\n",
        "\n",
        "lr.fit(X_train[[feature]], y_train)\n",
        "score = lr.score(X_val[[feature]], y_val)\n",
        "print('Logistic Regression, Validation Accuracy', score)"
      ],
      "execution_count": null,
      "outputs": [
        {
          "output_type": "stream",
          "text": [
            "CPU times: user 4 µs, sys: 0 ns, total: 4 µs\n",
            "Wall time: 8.82 µs\n",
            "Logistic Regression, Validation Accuracy 0.6202861952861953\n"
          ],
          "name": "stdout"
        }
      ]
    },
    {
      "cell_type": "markdown",
      "metadata": {
        "id": "fCOzEXAtxyCD"
      },
      "source": [
        "#### One-Hot Encoding, Decision Tree, Validation Accuracy"
      ]
    },
    {
      "cell_type": "code",
      "metadata": {
        "id": "JVPP0pwtxyCE",
        "outputId": "617b99db-70af-4101-9fd9-cf22d1d91cfc"
      },
      "source": [
        "%time\n",
        "from sklearn.tree import DecisionTreeClassifier\n",
        "\n",
        "dt = make_pipeline(\n",
        "    ce.OneHotEncoder(use_cat_names=True), \n",
        "    SimpleImputer(), \n",
        "    DecisionTreeClassifier(random_state=42)\n",
        ")\n",
        "\n",
        "dt.fit(X_train[[feature]], y_train)\n",
        "score = dt.score(X_val[[feature]], y_val)\n",
        "print('Decision Tree, Validation Accuracy', score)"
      ],
      "execution_count": null,
      "outputs": [
        {
          "output_type": "stream",
          "text": [
            "CPU times: user 6 µs, sys: 1e+03 ns, total: 7 µs\n",
            "Wall time: 6.44 µs\n",
            "Decision Tree, Validation Accuracy 0.6202861952861953\n"
          ],
          "name": "stdout"
        }
      ]
    },
    {
      "cell_type": "markdown",
      "metadata": {
        "id": "2zMgd4lxxyCS"
      },
      "source": [
        "#### One-Hot Encoding, Logistic Regression, Model Interpretation"
      ]
    },
    {
      "cell_type": "code",
      "metadata": {
        "id": "JwmYKtGZxyCT",
        "outputId": "71b97872-112b-40a9-82a9-8eea13463608"
      },
      "source": [
        "model = lr.named_steps['logisticregressioncv']\n",
        "encoder = lr.named_steps['onehotencoder']\n",
        "encoded_columns = encoder.transform(X_val[[feature]]).columns\n",
        "coefficients = pd.Series(model.coef_[0], encoded_columns)\n",
        "coefficients.sort_values().plot.barh(color='grey');"
      ],
      "execution_count": null,
      "outputs": [
        {
          "output_type": "display_data",
          "data": {
            "image/png": "[encoded data removed]",
            "text/plain": [
              "<Figure size 432x288 with 1 Axes>"
            ]
          },
          "metadata": {
            "tags": [],
            "needs_background": "light"
          }
        }
      ]
    },
    {
      "cell_type": "markdown",
      "metadata": {
        "id": "4Lfduzj6xyCf"
      },
      "source": [
        "#### One-Hot Encoding, Decision Tree, Model Interpretation"
      ]
    },
    {
      "cell_type": "code",
      "metadata": {
        "id": "1QAbowJ_xyCg",
        "outputId": "3dd91600-75ce-4ce0-d781-a0f0d47eeaf6"
      },
      "source": [
        "# Plot tree\n",
        "# https://scikit-learn.org/stable/modules/generated/sklearn.tree.export_graphviz.html\n",
        "import graphviz\n",
        "from sklearn.tree import export_graphviz\n",
        "\n",
        "model = dt.named_steps['decisiontreeclassifier']\n",
        "encoder = dt.named_steps['onehotencoder']\n",
        "encoded_columns = encoder.transform(X_val[[feature]]).columns\n",
        "\n",
        "dot_data = export_graphviz(model, \n",
        "                           out_file=None, \n",
        "                           max_depth=10, \n",
        "                           feature_names=encoded_columns,\n",
        "                           class_names=model.classes_, \n",
        "                           impurity=False, \n",
        "                           filled=True, \n",
        "                           proportion=True, \n",
        "                           rounded=True)   \n",
        "display(graphviz.Source(dot_data))"
      ],
      "execution_count": null,
      "outputs": [
        {
          "output_type": "display_data",
          "data": {
            "image/svg+xml": "<?xml version=\"1.0\" encoding=\"UTF-8\" standalone=\"no\"?>\n<!DOCTYPE svg PUBLIC \"-//W3C//DTD SVG 1.1//EN\"\n \"http://www.w3.org/Graphics/SVG/1.1/DTD/svg11.dtd\">\n<!-- Generated by graphviz version 2.40.1 (20161225.0304)\n -->\n<!-- Title: Tree Pages: 1 -->\n<svg width=\"1067pt\" height=\"685pt\"\n viewBox=\"0.00 0.00 1067.00 685.00\" xmlns=\"http://www.w3.org/2000/svg\" xmlns:xlink=\"http://www.w3.org/1999/xlink\">\n<g id=\"graph0\" class=\"graph\" transform=\"scale(1 1) rotate(0) translate(4 681)\">\n<title>Tree</title>\n<polygon fill=\"#ffffff\" stroke=\"transparent\" points=\"-4,4 -4,-681 1063,-681 1063,4 -4,4\"/>\n<!-- 0 -->\n<g id=\"node1\" class=\"node\">\n<title>0</title>\n<path fill=\"#f8decc\" stroke=\"#000000\" d=\"M944.5,-677C944.5,-677 725.5,-677 725.5,-677 719.5,-677 713.5,-671 713.5,-665 713.5,-665 713.5,-621 713.5,-621 713.5,-615 719.5,-609 725.5,-609 725.5,-609 944.5,-609 944.5,-609 950.5,-609 956.5,-615 956.5,-621 956.5,-621 956.5,-665 956.5,-665 956.5,-671 950.5,-677 944.5,-677\"/>\n<text text-anchor=\"middle\" x=\"835\" y=\"-661.8\" font-family=\"Helvetica,sans-Serif\" font-size=\"14.00\" fill=\"#000000\">extraction_type_class_other &lt;= 0.5</text>\n<text text-anchor=\"middle\" x=\"835\" y=\"-646.8\" font-family=\"Helvetica,sans-Serif\" font-size=\"14.00\" fill=\"#000000\">samples = 100.0%</text>\n<text text-anchor=\"middle\" x=\"835\" y=\"-631.8\" font-family=\"Helvetica,sans-Serif\" font-size=\"14.00\" fill=\"#000000\">value = [0.543, 0.073, 0.384]</text>\n<text text-anchor=\"middle\" x=\"835\" y=\"-616.8\" font-family=\"Helvetica,sans-Serif\" font-size=\"14.00\" fill=\"#000000\">class = functional</text>\n</g>\n<!-- 1 -->\n<g id=\"node2\" class=\"node\">\n<title>1</title>\n<path fill=\"#f5ceb2\" stroke=\"#000000\" d=\"M837,-573C837,-573 577,-573 577,-573 571,-573 565,-567 565,-561 565,-561 565,-517 565,-517 565,-511 571,-505 577,-505 577,-505 837,-505 837,-505 843,-505 849,-511 849,-517 849,-517 849,-561 849,-561 849,-567 843,-573 837,-573\"/>\n<text text-anchor=\"middle\" x=\"707\" y=\"-557.8\" font-family=\"Helvetica,sans-Serif\" font-size=\"14.00\" fill=\"#000000\">extraction_type_class_motorpump &lt;= 0.5</text>\n<text text-anchor=\"middle\" x=\"707\" y=\"-542.8\" font-family=\"Helvetica,sans-Serif\" font-size=\"14.00\" fill=\"#000000\">samples = 89.1%</text>\n<text text-anchor=\"middle\" x=\"707\" y=\"-527.8\" font-family=\"Helvetica,sans-Serif\" font-size=\"14.00\" fill=\"#000000\">value = [0.59, 0.078, 0.332]</text>\n<text text-anchor=\"middle\" x=\"707\" y=\"-512.8\" font-family=\"Helvetica,sans-Serif\" font-size=\"14.00\" fill=\"#000000\">class = functional</text>\n</g>\n<!-- 0&#45;&gt;1 -->\n<g id=\"edge1\" class=\"edge\">\n<title>0&#45;&gt;1</title>\n<path fill=\"none\" stroke=\"#000000\" d=\"M793.088,-608.9465C781.485,-599.519 768.7779,-589.1946 756.7741,-579.4415\"/>\n<polygon fill=\"#000000\" stroke=\"#000000\" points=\"758.9744,-576.7196 749.0061,-573.13 754.5602,-582.1524 758.9744,-576.7196\"/>\n<text text-anchor=\"middle\" x=\"751.5786\" y=\"-594.2973\" font-family=\"Helvetica,sans-Serif\" font-size=\"14.00\" fill=\"#000000\">True</text>\n</g>\n<!-- 12 -->\n<g id=\"node13\" class=\"node\">\n<title>12</title>\n<path fill=\"#9d66eb\" stroke=\"#000000\" d=\"M1047,-565.5C1047,-565.5 879,-565.5 879,-565.5 873,-565.5 867,-559.5 867,-553.5 867,-553.5 867,-524.5 867,-524.5 867,-518.5 873,-512.5 879,-512.5 879,-512.5 1047,-512.5 1047,-512.5 1053,-512.5 1059,-518.5 1059,-524.5 1059,-524.5 1059,-553.5 1059,-553.5 1059,-559.5 1053,-565.5 1047,-565.5\"/>\n<text text-anchor=\"middle\" x=\"963\" y=\"-550.3\" font-family=\"Helvetica,sans-Serif\" font-size=\"14.00\" fill=\"#000000\">samples = 10.9%</text>\n<text text-anchor=\"middle\" x=\"963\" y=\"-535.3\" font-family=\"Helvetica,sans-Serif\" font-size=\"14.00\" fill=\"#000000\">value = [0.159, 0.031, 0.81]</text>\n<text text-anchor=\"middle\" x=\"963\" y=\"-520.3\" font-family=\"Helvetica,sans-Serif\" font-size=\"14.00\" fill=\"#000000\">class = non functional</text>\n</g>\n<!-- 0&#45;&gt;12 -->\n<g id=\"edge12\" class=\"edge\">\n<title>0&#45;&gt;12</title>\n<path fill=\"none\" stroke=\"#000000\" d=\"M876.912,-608.9465C891.5533,-597.0504 907.9526,-583.726 922.4785,-571.9237\"/>\n<polygon fill=\"#000000\" stroke=\"#000000\" points=\"924.7786,-574.5645 930.3327,-565.5422 920.3645,-569.1317 924.7786,-574.5645\"/>\n<text text-anchor=\"middle\" x=\"927.7602\" y=\"-586.7095\" font-family=\"Helvetica,sans-Serif\" font-size=\"14.00\" fill=\"#000000\">False</text>\n</g>\n<!-- 2 -->\n<g id=\"node3\" class=\"node\">\n<title>2</title>\n<path fill=\"#f4caac\" stroke=\"#000000\" d=\"M708.5,-469C708.5,-469 443.5,-469 443.5,-469 437.5,-469 431.5,-463 431.5,-457 431.5,-457 431.5,-413 431.5,-413 431.5,-407 437.5,-401 443.5,-401 443.5,-401 708.5,-401 708.5,-401 714.5,-401 720.5,-407 720.5,-413 720.5,-413 720.5,-457 720.5,-457 720.5,-463 714.5,-469 708.5,-469\"/>\n<text text-anchor=\"middle\" x=\"576\" y=\"-453.8\" font-family=\"Helvetica,sans-Serif\" font-size=\"14.00\" fill=\"#000000\">extraction_type_class_submersible &lt;= 0.5</text>\n<text text-anchor=\"middle\" x=\"576\" y=\"-438.8\" font-family=\"Helvetica,sans-Serif\" font-size=\"14.00\" fill=\"#000000\">samples = 84.1%</text>\n<text text-anchor=\"middle\" x=\"576\" y=\"-423.8\" font-family=\"Helvetica,sans-Serif\" font-size=\"14.00\" fill=\"#000000\">value = [0.603, 0.08, 0.318]</text>\n<text text-anchor=\"middle\" x=\"576\" y=\"-408.8\" font-family=\"Helvetica,sans-Serif\" font-size=\"14.00\" fill=\"#000000\">class = functional</text>\n</g>\n<!-- 1&#45;&gt;2 -->\n<g id=\"edge2\" class=\"edge\">\n<title>1&#45;&gt;2</title>\n<path fill=\"none\" stroke=\"#000000\" d=\"M664.1057,-504.9465C652.2307,-495.519 639.2259,-485.1946 626.9407,-475.4415\"/>\n<polygon fill=\"#000000\" stroke=\"#000000\" points=\"628.9989,-472.6066 618.9907,-469.13 624.6464,-478.089 628.9989,-472.6066\"/>\n</g>\n<!-- 11 -->\n<g id=\"node12\" class=\"node\">\n<title>11</title>\n<path fill=\"#d8c1f7\" stroke=\"#000000\" d=\"M927,-461.5C927,-461.5 751,-461.5 751,-461.5 745,-461.5 739,-455.5 739,-449.5 739,-449.5 739,-420.5 739,-420.5 739,-414.5 745,-408.5 751,-408.5 751,-408.5 927,-408.5 927,-408.5 933,-408.5 939,-414.5 939,-420.5 939,-420.5 939,-449.5 939,-449.5 939,-455.5 933,-461.5 927,-461.5\"/>\n<text text-anchor=\"middle\" x=\"839\" y=\"-446.3\" font-family=\"Helvetica,sans-Serif\" font-size=\"14.00\" fill=\"#000000\">samples = 5.0%</text>\n<text text-anchor=\"middle\" x=\"839\" y=\"-431.3\" font-family=\"Helvetica,sans-Serif\" font-size=\"14.00\" fill=\"#000000\">value = [0.381, 0.045, 0.574]</text>\n<text text-anchor=\"middle\" x=\"839\" y=\"-416.3\" font-family=\"Helvetica,sans-Serif\" font-size=\"14.00\" fill=\"#000000\">class = non functional</text>\n</g>\n<!-- 1&#45;&gt;11 -->\n<g id=\"edge11\" class=\"edge\">\n<title>1&#45;&gt;11</title>\n<path fill=\"none\" stroke=\"#000000\" d=\"M750.2217,-504.9465C765.3206,-493.0504 782.2324,-479.726 797.2122,-467.9237\"/>\n<polygon fill=\"#000000\" stroke=\"#000000\" points=\"799.623,-470.4802 805.3119,-461.5422 795.2909,-464.9817 799.623,-470.4802\"/>\n</g>\n<!-- 3 -->\n<g id=\"node4\" class=\"node\">\n<title>3</title>\n<path fill=\"#f4c7a8\" stroke=\"#000000\" d=\"M568.5,-365C568.5,-365 339.5,-365 339.5,-365 333.5,-365 327.5,-359 327.5,-353 327.5,-353 327.5,-309 327.5,-309 327.5,-303 333.5,-297 339.5,-297 339.5,-297 568.5,-297 568.5,-297 574.5,-297 580.5,-303 580.5,-309 580.5,-309 580.5,-353 580.5,-353 580.5,-359 574.5,-365 568.5,-365\"/>\n<text text-anchor=\"middle\" x=\"454\" y=\"-349.8\" font-family=\"Helvetica,sans-Serif\" font-size=\"14.00\" fill=\"#000000\">extraction_type_class_gravity &lt;= 0.5</text>\n<text text-anchor=\"middle\" x=\"454\" y=\"-334.8\" font-family=\"Helvetica,sans-Serif\" font-size=\"14.00\" fill=\"#000000\">samples = 73.8%</text>\n<text text-anchor=\"middle\" x=\"454\" y=\"-319.8\" font-family=\"Helvetica,sans-Serif\" font-size=\"14.00\" fill=\"#000000\">value = [0.611, 0.085, 0.304]</text>\n<text text-anchor=\"middle\" x=\"454\" y=\"-304.8\" font-family=\"Helvetica,sans-Serif\" font-size=\"14.00\" fill=\"#000000\">class = functional</text>\n</g>\n<!-- 2&#45;&gt;3 -->\n<g id=\"edge3\" class=\"edge\">\n<title>2&#45;&gt;3</title>\n<path fill=\"none\" stroke=\"#000000\" d=\"M536.0526,-400.9465C525.0988,-391.6088 513.1127,-381.3911 501.768,-371.7203\"/>\n<polygon fill=\"#000000\" stroke=\"#000000\" points=\"503.9179,-368.9538 494.0371,-365.13 499.3767,-374.2809 503.9179,-368.9538\"/>\n</g>\n<!-- 10 -->\n<g id=\"node11\" class=\"node\">\n<title>10</title>\n<path fill=\"#f9e4d5\" stroke=\"#000000\" d=\"M787,-357.5C787,-357.5 611,-357.5 611,-357.5 605,-357.5 599,-351.5 599,-345.5 599,-345.5 599,-316.5 599,-316.5 599,-310.5 605,-304.5 611,-304.5 611,-304.5 787,-304.5 787,-304.5 793,-304.5 799,-310.5 799,-316.5 799,-316.5 799,-345.5 799,-345.5 799,-351.5 793,-357.5 787,-357.5\"/>\n<text text-anchor=\"middle\" x=\"699\" y=\"-342.3\" font-family=\"Helvetica,sans-Serif\" font-size=\"14.00\" fill=\"#000000\">samples = 10.3%</text>\n<text text-anchor=\"middle\" x=\"699\" y=\"-327.3\" font-family=\"Helvetica,sans-Serif\" font-size=\"14.00\" fill=\"#000000\">value = [0.541, 0.042, 0.416]</text>\n<text text-anchor=\"middle\" x=\"699\" y=\"-312.3\" font-family=\"Helvetica,sans-Serif\" font-size=\"14.00\" fill=\"#000000\">class = functional</text>\n</g>\n<!-- 2&#45;&gt;10 -->\n<g id=\"edge10\" class=\"edge\">\n<title>2&#45;&gt;10</title>\n<path fill=\"none\" stroke=\"#000000\" d=\"M616.2748,-400.9465C630.2139,-389.1606 645.8112,-375.9726 659.6732,-364.2519\"/>\n<polygon fill=\"#000000\" stroke=\"#000000\" points=\"662.2324,-366.6715 667.6088,-357.5422 657.7127,-361.3262 662.2324,-366.6715\"/>\n</g>\n<!-- 4 -->\n<g id=\"node5\" class=\"node\">\n<title>4</title>\n<path fill=\"#f3c5a4\" stroke=\"#000000\" d=\"M458.5,-261C458.5,-261 181.5,-261 181.5,-261 175.5,-261 169.5,-255 169.5,-249 169.5,-249 169.5,-205 169.5,-205 169.5,-199 175.5,-193 181.5,-193 181.5,-193 458.5,-193 458.5,-193 464.5,-193 470.5,-199 470.5,-205 470.5,-205 470.5,-249 470.5,-249 470.5,-255 464.5,-261 458.5,-261\"/>\n<text text-anchor=\"middle\" x=\"320\" y=\"-245.8\" font-family=\"Helvetica,sans-Serif\" font-size=\"14.00\" fill=\"#000000\">extraction_type_class_wind&#45;powered &lt;= 0.5</text>\n<text text-anchor=\"middle\" x=\"320\" y=\"-230.8\" font-family=\"Helvetica,sans-Serif\" font-size=\"14.00\" fill=\"#000000\">samples = 28.7%</text>\n<text text-anchor=\"middle\" x=\"320\" y=\"-215.8\" font-family=\"Helvetica,sans-Serif\" font-size=\"14.00\" fill=\"#000000\">value = [0.629, 0.059, 0.311]</text>\n<text text-anchor=\"middle\" x=\"320\" y=\"-200.8\" font-family=\"Helvetica,sans-Serif\" font-size=\"14.00\" fill=\"#000000\">class = functional</text>\n</g>\n<!-- 3&#45;&gt;4 -->\n<g id=\"edge4\" class=\"edge\">\n<title>3&#45;&gt;4</title>\n<path fill=\"none\" stroke=\"#000000\" d=\"M410.1234,-296.9465C397.9765,-287.519 384.6738,-277.1946 372.1073,-267.4415\"/>\n<polygon fill=\"#000000\" stroke=\"#000000\" points=\"374.021,-264.4963 363.9752,-261.13 369.7291,-270.0262 374.021,-264.4963\"/>\n</g>\n<!-- 9 -->\n<g id=\"node10\" class=\"node\">\n<title>9</title>\n<path fill=\"#f4c9aa\" stroke=\"#000000\" d=\"M677,-253.5C677,-253.5 501,-253.5 501,-253.5 495,-253.5 489,-247.5 489,-241.5 489,-241.5 489,-212.5 489,-212.5 489,-206.5 495,-200.5 501,-200.5 501,-200.5 677,-200.5 677,-200.5 683,-200.5 689,-206.5 689,-212.5 689,-212.5 689,-241.5 689,-241.5 689,-247.5 683,-253.5 677,-253.5\"/>\n<text text-anchor=\"middle\" x=\"589\" y=\"-238.3\" font-family=\"Helvetica,sans-Serif\" font-size=\"14.00\" fill=\"#000000\">samples = 45.1%</text>\n<text text-anchor=\"middle\" x=\"589\" y=\"-223.3\" font-family=\"Helvetica,sans-Serif\" font-size=\"14.00\" fill=\"#000000\">value = [0.599, 0.101, 0.299]</text>\n<text text-anchor=\"middle\" x=\"589\" y=\"-208.3\" font-family=\"Helvetica,sans-Serif\" font-size=\"14.00\" fill=\"#000000\">class = functional</text>\n</g>\n<!-- 3&#45;&gt;9 -->\n<g id=\"edge9\" class=\"edge\">\n<title>3&#45;&gt;9</title>\n<path fill=\"none\" stroke=\"#000000\" d=\"M498.204,-296.9465C513.6461,-285.0504 530.9422,-271.726 546.2625,-259.9237\"/>\n<polygon fill=\"#000000\" stroke=\"#000000\" points=\"548.7603,-262.4176 554.5462,-253.5422 544.4883,-256.8723 548.7603,-262.4176\"/>\n</g>\n<!-- 5 -->\n<g id=\"node6\" class=\"node\">\n<title>5</title>\n<path fill=\"#f3c4a3\" stroke=\"#000000\" d=\"M319,-157C319,-157 63,-157 63,-157 57,-157 51,-151 51,-145 51,-145 51,-101 51,-101 51,-95 57,-89 63,-89 63,-89 319,-89 319,-89 325,-89 331,-95 331,-101 331,-101 331,-145 331,-145 331,-151 325,-157 319,-157\"/>\n<text text-anchor=\"middle\" x=\"191\" y=\"-141.8\" font-family=\"Helvetica,sans-Serif\" font-size=\"14.00\" fill=\"#000000\">extraction_type_class_rope pump &lt;= 0.5</text>\n<text text-anchor=\"middle\" x=\"191\" y=\"-126.8\" font-family=\"Helvetica,sans-Serif\" font-size=\"14.00\" fill=\"#000000\">samples = 28.5%</text>\n<text text-anchor=\"middle\" x=\"191\" y=\"-111.8\" font-family=\"Helvetica,sans-Serif\" font-size=\"14.00\" fill=\"#000000\">value = [0.631, 0.059, 0.31]</text>\n<text text-anchor=\"middle\" x=\"191\" y=\"-96.8\" font-family=\"Helvetica,sans-Serif\" font-size=\"14.00\" fill=\"#000000\">class = functional</text>\n</g>\n<!-- 4&#45;&gt;5 -->\n<g id=\"edge5\" class=\"edge\">\n<title>4&#45;&gt;5</title>\n<path fill=\"none\" stroke=\"#000000\" d=\"M277.7606,-192.9465C266.0669,-183.519 253.2606,-173.1946 241.163,-163.4415\"/>\n<polygon fill=\"#000000\" stroke=\"#000000\" points=\"243.3162,-160.6816 233.3343,-157.13 238.9227,-166.1312 243.3162,-160.6816\"/>\n</g>\n<!-- 8 -->\n<g id=\"node9\" class=\"node\">\n<title>8</title>\n<path fill=\"#f8f3fd\" stroke=\"#000000\" d=\"M537,-149.5C537,-149.5 361,-149.5 361,-149.5 355,-149.5 349,-143.5 349,-137.5 349,-137.5 349,-108.5 349,-108.5 349,-102.5 355,-96.5 361,-96.5 361,-96.5 537,-96.5 537,-96.5 543,-96.5 549,-102.5 549,-108.5 549,-108.5 549,-137.5 549,-137.5 549,-143.5 543,-149.5 537,-149.5\"/>\n<text text-anchor=\"middle\" x=\"449\" y=\"-134.3\" font-family=\"Helvetica,sans-Serif\" font-size=\"14.00\" fill=\"#000000\">samples = 0.2%</text>\n<text text-anchor=\"middle\" x=\"449\" y=\"-119.3\" font-family=\"Helvetica,sans-Serif\" font-size=\"14.00\" fill=\"#000000\">value = [0.452, 0.065, 0.484]</text>\n<text text-anchor=\"middle\" x=\"449\" y=\"-104.3\" font-family=\"Helvetica,sans-Serif\" font-size=\"14.00\" fill=\"#000000\">class = non functional</text>\n</g>\n<!-- 4&#45;&gt;8 -->\n<g id=\"edge8\" class=\"edge\">\n<title>4&#45;&gt;8</title>\n<path fill=\"none\" stroke=\"#000000\" d=\"M362.2394,-192.9465C376.9952,-181.0504 393.5225,-167.726 408.162,-155.9237\"/>\n<polygon fill=\"#000000\" stroke=\"#000000\" points=\"410.4891,-158.5433 416.0775,-149.5422 406.0957,-153.0938 410.4891,-158.5433\"/>\n</g>\n<!-- 6 -->\n<g id=\"node7\" class=\"node\">\n<title>6</title>\n<path fill=\"#f3c5a3\" stroke=\"#000000\" d=\"M164,-53C164,-53 12,-53 12,-53 6,-53 0,-47 0,-41 0,-41 0,-12 0,-12 0,-6 6,0 12,0 12,0 164,0 164,0 170,0 176,-6 176,-12 176,-12 176,-41 176,-41 176,-47 170,-53 164,-53\"/>\n<text text-anchor=\"middle\" x=\"88\" y=\"-37.8\" font-family=\"Helvetica,sans-Serif\" font-size=\"14.00\" fill=\"#000000\">samples = 27.7%</text>\n<text text-anchor=\"middle\" x=\"88\" y=\"-22.8\" font-family=\"Helvetica,sans-Serif\" font-size=\"14.00\" fill=\"#000000\">value = [0.63, 0.06, 0.31]</text>\n<text text-anchor=\"middle\" x=\"88\" y=\"-7.8\" font-family=\"Helvetica,sans-Serif\" font-size=\"14.00\" fill=\"#000000\">class = functional</text>\n</g>\n<!-- 5&#45;&gt;6 -->\n<g id=\"edge6\" class=\"edge\">\n<title>5&#45;&gt;6</title>\n<path fill=\"none\" stroke=\"#000000\" d=\"M154.6861,-88.9777C144.7168,-79.6376 133.9138,-69.5163 123.9643,-60.1947\"/>\n<polygon fill=\"#000000\" stroke=\"#000000\" points=\"126.2408,-57.5314 116.5502,-53.2485 121.4548,-62.6397 126.2408,-57.5314\"/>\n</g>\n<!-- 7 -->\n<g id=\"node8\" class=\"node\">\n<title>7</title>\n<path fill=\"#f2bf9b\" stroke=\"#000000\" d=\"M382,-53C382,-53 206,-53 206,-53 200,-53 194,-47 194,-41 194,-41 194,-12 194,-12 194,-6 200,0 206,0 206,0 382,0 382,0 388,0 394,-6 394,-12 394,-12 394,-41 394,-41 394,-47 388,-53 382,-53\"/>\n<text text-anchor=\"middle\" x=\"294\" y=\"-37.8\" font-family=\"Helvetica,sans-Serif\" font-size=\"14.00\" fill=\"#000000\">samples = 0.7%</text>\n<text text-anchor=\"middle\" x=\"294\" y=\"-22.8\" font-family=\"Helvetica,sans-Serif\" font-size=\"14.00\" fill=\"#000000\">value = [0.657, 0.037, 0.306]</text>\n<text text-anchor=\"middle\" x=\"294\" y=\"-7.8\" font-family=\"Helvetica,sans-Serif\" font-size=\"14.00\" fill=\"#000000\">class = functional</text>\n</g>\n<!-- 5&#45;&gt;7 -->\n<g id=\"edge7\" class=\"edge\">\n<title>5&#45;&gt;7</title>\n<path fill=\"none\" stroke=\"#000000\" d=\"M227.3139,-88.9777C237.2832,-79.6376 248.0862,-69.5163 258.0357,-60.1947\"/>\n<polygon fill=\"#000000\" stroke=\"#000000\" points=\"260.5452,-62.6397 265.4498,-53.2485 255.7592,-57.5314 260.5452,-62.6397\"/>\n</g>\n</g>\n</svg>\n",
            "text/plain": [
              "<graphviz.files.Source at 0x7f3fc951f1d0>"
            ]
          },
          "metadata": {
            "tags": []
          }
        }
      ]
    },
    {
      "cell_type": "markdown",
      "metadata": {
        "id": "w9LolsivxyCm"
      },
      "source": [
        "### [Ordinal Encoding](http://contrib.scikit-learn.org/categorical-encoding/ordinal.html)\n",
        "\n",
        "> Ordinal encoding uses a single column of integers to represent the classes. An optional mapping dict can be passed in; in this case, we use the knowledge that there is some true order to the classes themselves. Otherwise, the classes are assumed to have no true order and integers are selected at random."
      ]
    },
    {
      "cell_type": "code",
      "metadata": {
        "id": "jvOsBrg7xyCn",
        "outputId": "0663914c-e4f6-4a2e-81a7-f2cc6019ce37"
      },
      "source": [
        "encoder = ce.OrdinalEncoder()\n",
        "encoded = encoder.fit_transform(X_train[[feature]])\n",
        "print(f'1 column, {encoded[feature].nunique()} unique values')\n",
        "encoded.head(20)"
      ],
      "execution_count": null,
      "outputs": [
        {
          "output_type": "stream",
          "text": [
            "1 column, 7 unique values\n"
          ],
          "name": "stdout"
        },
        {
          "output_type": "execute_result",
          "data": {
            "text/html": [
              "<div>\n",
              "<style scoped>\n",
              "    .dataframe tbody tr th:only-of-type {\n",
              "        vertical-align: middle;\n",
              "    }\n",
              "\n",
              "    .dataframe tbody tr th {\n",
              "        vertical-align: top;\n",
              "    }\n",
              "\n",
              "    .dataframe thead th {\n",
              "        text-align: right;\n",
              "    }\n",
              "</style>\n",
              "<table border=\"1\" class=\"dataframe\">\n",
              "  <thead>\n",
              "    <tr style=\"text-align: right;\">\n",
              "      <th></th>\n",
              "      <th>extraction_type_class</th>\n",
              "    </tr>\n",
              "  </thead>\n",
              "  <tbody>\n",
              "    <tr>\n",
              "      <th>43360</th>\n",
              "      <td>1</td>\n",
              "    </tr>\n",
              "    <tr>\n",
              "      <th>7263</th>\n",
              "      <td>1</td>\n",
              "    </tr>\n",
              "    <tr>\n",
              "      <th>2486</th>\n",
              "      <td>2</td>\n",
              "    </tr>\n",
              "    <tr>\n",
              "      <th>313</th>\n",
              "      <td>3</td>\n",
              "    </tr>\n",
              "    <tr>\n",
              "      <th>52726</th>\n",
              "      <td>4</td>\n",
              "    </tr>\n",
              "    <tr>\n",
              "      <th>8558</th>\n",
              "      <td>1</td>\n",
              "    </tr>\n",
              "    <tr>\n",
              "      <th>2559</th>\n",
              "      <td>1</td>\n",
              "    </tr>\n",
              "    <tr>\n",
              "      <th>54735</th>\n",
              "      <td>4</td>\n",
              "    </tr>\n",
              "    <tr>\n",
              "      <th>25763</th>\n",
              "      <td>2</td>\n",
              "    </tr>\n",
              "    <tr>\n",
              "      <th>44540</th>\n",
              "      <td>5</td>\n",
              "    </tr>\n",
              "    <tr>\n",
              "      <th>28603</th>\n",
              "      <td>3</td>\n",
              "    </tr>\n",
              "    <tr>\n",
              "      <th>4372</th>\n",
              "      <td>5</td>\n",
              "    </tr>\n",
              "    <tr>\n",
              "      <th>30666</th>\n",
              "      <td>1</td>\n",
              "    </tr>\n",
              "    <tr>\n",
              "      <th>6431</th>\n",
              "      <td>5</td>\n",
              "    </tr>\n",
              "    <tr>\n",
              "      <th>57420</th>\n",
              "      <td>3</td>\n",
              "    </tr>\n",
              "    <tr>\n",
              "      <th>1373</th>\n",
              "      <td>1</td>\n",
              "    </tr>\n",
              "    <tr>\n",
              "      <th>2026</th>\n",
              "      <td>1</td>\n",
              "    </tr>\n",
              "    <tr>\n",
              "      <th>58977</th>\n",
              "      <td>2</td>\n",
              "    </tr>\n",
              "    <tr>\n",
              "      <th>41101</th>\n",
              "      <td>1</td>\n",
              "    </tr>\n",
              "    <tr>\n",
              "      <th>10019</th>\n",
              "      <td>1</td>\n",
              "    </tr>\n",
              "  </tbody>\n",
              "</table>\n",
              "</div>"
            ],
            "text/plain": [
              "       extraction_type_class\n",
              "43360                      1\n",
              "7263                       1\n",
              "2486                       2\n",
              "313                        3\n",
              "52726                      4\n",
              "8558                       1\n",
              "2559                       1\n",
              "54735                      4\n",
              "25763                      2\n",
              "44540                      5\n",
              "28603                      3\n",
              "4372                       5\n",
              "30666                      1\n",
              "6431                       5\n",
              "57420                      3\n",
              "1373                       1\n",
              "2026                       1\n",
              "58977                      2\n",
              "41101                      1\n",
              "10019                      1"
            ]
          },
          "metadata": {
            "tags": []
          },
          "execution_count": 55
        }
      ]
    },
    {
      "cell_type": "markdown",
      "metadata": {
        "id": "BC6MFdQkxyCz"
      },
      "source": [
        "#### Ordinal Encoding, Logistic Regression, Validation Accuracy"
      ]
    },
    {
      "cell_type": "code",
      "metadata": {
        "id": "1T6kJYZoxyC0",
        "outputId": "57d86af3-dc6c-4ea2-fcfb-ca4fd6e3311d"
      },
      "source": [
        "lr = make_pipeline(\n",
        "    ce.OrdinalEncoder(), \n",
        "    SimpleImputer(), \n",
        "    StandardScaler(), \n",
        "    LogisticRegressionCV(multi_class='auto', solver='lbfgs', cv=5, n_jobs=-1)\n",
        ")\n",
        "\n",
        "lr.fit(X_train[[feature]], y_train)\n",
        "score = lr.score(X_val[[feature]], y_val)\n",
        "print('Logistic Regression, Validation Accuracy', score)"
      ],
      "execution_count": null,
      "outputs": [
        {
          "output_type": "stream",
          "text": [
            "Logistic Regression, Validation Accuracy 0.5417508417508418\n"
          ],
          "name": "stdout"
        }
      ]
    },
    {
      "cell_type": "markdown",
      "metadata": {
        "id": "ZefZ4ZfIxyC_"
      },
      "source": [
        "#### Ordinal Encoding, Decision Tree, Validation Accuracy"
      ]
    },
    {
      "cell_type": "code",
      "metadata": {
        "id": "xw5cb-dTxyDB",
        "outputId": "138933b8-7737-4c7f-ae0e-a3139d4b4422"
      },
      "source": [
        "dt = make_pipeline(\n",
        "    ce.OrdinalEncoder(), \n",
        "    SimpleImputer(), \n",
        "    DecisionTreeClassifier(random_state=42)\n",
        ")\n",
        "\n",
        "dt.fit(X_train[[feature]], y_train)\n",
        "score = dt.score(X_val[[feature]], y_val)\n",
        "print('Decision Tree, Validation Accuracy', score)"
      ],
      "execution_count": null,
      "outputs": [
        {
          "output_type": "stream",
          "text": [
            "Decision Tree, Validation Accuracy 0.6202861952861953\n"
          ],
          "name": "stdout"
        }
      ]
    },
    {
      "cell_type": "markdown",
      "metadata": {
        "id": "VhAb9T3FxyDL"
      },
      "source": [
        "#### Ordinal Encoding, Logistic Regression, Model Interpretation"
      ]
    },
    {
      "cell_type": "code",
      "metadata": {
        "id": "-G1VLIGHxyDP",
        "outputId": "0ab03015-e258-460f-ed1b-10cf8d85aa9b"
      },
      "source": [
        "model = lr.named_steps['logisticregressioncv']\n",
        "encoder = lr.named_steps['ordinalencoder']\n",
        "encoded_columns = encoder.transform(X_val[[feature]]).columns\n",
        "coefficients = pd.Series(model.coef_[0], encoded_columns)\n",
        "coefficients.sort_values().plot.barh(color='grey');"
      ],
      "execution_count": null,
      "outputs": [
        {
          "output_type": "display_data",
          "data": {
            "image/png": "[encoded data removed]",
            "text/plain": [
              "<Figure size 432x288 with 1 Axes>"
            ]
          },
          "metadata": {
            "tags": [],
            "needs_background": "light"
          }
        }
      ]
    },
    {
      "cell_type": "markdown",
      "metadata": {
        "id": "YpPrUgT8xyDp"
      },
      "source": [
        "#### Ordinal Encoding, Decision Tree, Model Interpretation"
      ]
    },
    {
      "cell_type": "code",
      "metadata": {
        "id": "cW_QmWV1xyDv",
        "outputId": "61f1fcce-5315-44c0-856a-bb16a7092d95"
      },
      "source": [
        "model = dt.named_steps['decisiontreeclassifier']\n",
        "encoder = dt.named_steps['ordinalencoder']\n",
        "encoded_columns = encoder.transform(X_val[[feature]]).columns\n",
        "\n",
        "dot_data = export_graphviz(model, \n",
        "                           out_file=None, \n",
        "                           max_depth=10, \n",
        "                           feature_names=encoded_columns,\n",
        "                           class_names=model.classes_, \n",
        "                           impurity=False, \n",
        "                           filled=True, \n",
        "                           proportion=True, \n",
        "                           rounded=True)   \n",
        "display(graphviz.Source(dot_data))"
      ],
      "execution_count": null,
      "outputs": [
        {
          "output_type": "display_data",
          "data": {
            "image/svg+xml": "<?xml version=\"1.0\" encoding=\"UTF-8\" standalone=\"no\"?>\n<!DOCTYPE svg PUBLIC \"-//W3C//DTD SVG 1.1//EN\"\n \"http://www.w3.org/Graphics/SVG/1.1/DTD/svg11.dtd\">\n<!-- Generated by graphviz version 2.40.1 (20161225.0304)\n -->\n<!-- Title: Tree Pages: 1 -->\n<svg width=\"1167pt\" height=\"581pt\"\n viewBox=\"0.00 0.00 1167.00 581.00\" xmlns=\"http://www.w3.org/2000/svg\" xmlns:xlink=\"http://www.w3.org/1999/xlink\">\n<g id=\"graph0\" class=\"graph\" transform=\"scale(1 1) rotate(0) translate(4 577)\">\n<title>Tree</title>\n<polygon fill=\"#ffffff\" stroke=\"transparent\" points=\"-4,4 -4,-577 1163,-577 1163,4 -4,4\"/>\n<!-- 0 -->\n<g id=\"node1\" class=\"node\">\n<title>0</title>\n<path fill=\"#f8decc\" stroke=\"#000000\" d=\"M500,-573C500,-573 322,-573 322,-573 316,-573 310,-567 310,-561 310,-561 310,-517 310,-517 310,-511 316,-505 322,-505 322,-505 500,-505 500,-505 506,-505 512,-511 512,-517 512,-517 512,-561 512,-561 512,-567 506,-573 500,-573\"/>\n<text text-anchor=\"middle\" x=\"411\" y=\"-557.8\" font-family=\"Helvetica,sans-Serif\" font-size=\"14.00\" fill=\"#000000\">extraction_type_class &lt;= 2.5</text>\n<text text-anchor=\"middle\" x=\"411\" y=\"-542.8\" font-family=\"Helvetica,sans-Serif\" font-size=\"14.00\" fill=\"#000000\">samples = 100.0%</text>\n<text text-anchor=\"middle\" x=\"411\" y=\"-527.8\" font-family=\"Helvetica,sans-Serif\" font-size=\"14.00\" fill=\"#000000\">value = [0.543, 0.073, 0.384]</text>\n<text text-anchor=\"middle\" x=\"411\" y=\"-512.8\" font-family=\"Helvetica,sans-Serif\" font-size=\"14.00\" fill=\"#000000\">class = functional</text>\n</g>\n<!-- 1 -->\n<g id=\"node2\" class=\"node\">\n<title>1</title>\n<path fill=\"#f4c7a8\" stroke=\"#000000\" d=\"M390,-469C390,-469 212,-469 212,-469 206,-469 200,-463 200,-457 200,-457 200,-413 200,-413 200,-407 206,-401 212,-401 212,-401 390,-401 390,-401 396,-401 402,-407 402,-413 402,-413 402,-457 402,-457 402,-463 396,-469 390,-469\"/>\n<text text-anchor=\"middle\" x=\"301\" y=\"-453.8\" font-family=\"Helvetica,sans-Serif\" font-size=\"14.00\" fill=\"#000000\">extraction_type_class &lt;= 1.5</text>\n<text text-anchor=\"middle\" x=\"301\" y=\"-438.8\" font-family=\"Helvetica,sans-Serif\" font-size=\"14.00\" fill=\"#000000\">samples = 72.9%</text>\n<text text-anchor=\"middle\" x=\"301\" y=\"-423.8\" font-family=\"Helvetica,sans-Serif\" font-size=\"14.00\" fill=\"#000000\">value = [0.611, 0.085, 0.304]</text>\n<text text-anchor=\"middle\" x=\"301\" y=\"-408.8\" font-family=\"Helvetica,sans-Serif\" font-size=\"14.00\" fill=\"#000000\">class = functional</text>\n</g>\n<!-- 0&#45;&gt;1 -->\n<g id=\"edge1\" class=\"edge\">\n<title>0&#45;&gt;1</title>\n<path fill=\"none\" stroke=\"#000000\" d=\"M374.9819,-504.9465C365.2954,-495.7884 354.7136,-485.7838 344.6603,-476.2788\"/>\n<polygon fill=\"#000000\" stroke=\"#000000\" points=\"346.7701,-473.4569 337.099,-469.13 341.961,-478.5434 346.7701,-473.4569\"/>\n<text text-anchor=\"middle\" x=\"337.7997\" y=\"-490.4202\" font-family=\"Helvetica,sans-Serif\" font-size=\"14.00\" fill=\"#000000\">True</text>\n</g>\n<!-- 4 -->\n<g id=\"node5\" class=\"node\">\n<title>4</title>\n<path fill=\"#d0b4f5\" stroke=\"#000000\" d=\"M610,-469C610,-469 432,-469 432,-469 426,-469 420,-463 420,-457 420,-457 420,-413 420,-413 420,-407 426,-401 432,-401 432,-401 610,-401 610,-401 616,-401 622,-407 622,-413 622,-413 622,-457 622,-457 622,-463 616,-469 610,-469\"/>\n<text text-anchor=\"middle\" x=\"521\" y=\"-453.8\" font-family=\"Helvetica,sans-Serif\" font-size=\"14.00\" fill=\"#000000\">extraction_type_class &lt;= 3.5</text>\n<text text-anchor=\"middle\" x=\"521\" y=\"-438.8\" font-family=\"Helvetica,sans-Serif\" font-size=\"14.00\" fill=\"#000000\">samples = 27.1%</text>\n<text text-anchor=\"middle\" x=\"521\" y=\"-423.8\" font-family=\"Helvetica,sans-Serif\" font-size=\"14.00\" fill=\"#000000\">value = [0.361, 0.038, 0.601]</text>\n<text text-anchor=\"middle\" x=\"521\" y=\"-408.8\" font-family=\"Helvetica,sans-Serif\" font-size=\"14.00\" fill=\"#000000\">class = non functional</text>\n</g>\n<!-- 0&#45;&gt;4 -->\n<g id=\"edge4\" class=\"edge\">\n<title>0&#45;&gt;4</title>\n<path fill=\"none\" stroke=\"#000000\" d=\"M447.0181,-504.9465C456.7046,-495.7884 467.2864,-485.7838 477.3397,-476.2788\"/>\n<polygon fill=\"#000000\" stroke=\"#000000\" points=\"480.039,-478.5434 484.901,-469.13 475.2299,-473.4569 480.039,-478.5434\"/>\n<text text-anchor=\"middle\" x=\"484.2003\" y=\"-490.4202\" font-family=\"Helvetica,sans-Serif\" font-size=\"14.00\" fill=\"#000000\">False</text>\n</g>\n<!-- 2 -->\n<g id=\"node3\" class=\"node\">\n<title>2</title>\n<path fill=\"#f4c9aa\" stroke=\"#000000\" d=\"M188,-357.5C188,-357.5 12,-357.5 12,-357.5 6,-357.5 0,-351.5 0,-345.5 0,-345.5 0,-316.5 0,-316.5 0,-310.5 6,-304.5 12,-304.5 12,-304.5 188,-304.5 188,-304.5 194,-304.5 200,-310.5 200,-316.5 200,-316.5 200,-345.5 200,-345.5 200,-351.5 194,-357.5 188,-357.5\"/>\n<text text-anchor=\"middle\" x=\"100\" y=\"-342.3\" font-family=\"Helvetica,sans-Serif\" font-size=\"14.00\" fill=\"#000000\">samples = 45.1%</text>\n<text text-anchor=\"middle\" x=\"100\" y=\"-327.3\" font-family=\"Helvetica,sans-Serif\" font-size=\"14.00\" fill=\"#000000\">value = [0.599, 0.101, 0.299]</text>\n<text text-anchor=\"middle\" x=\"100\" y=\"-312.3\" font-family=\"Helvetica,sans-Serif\" font-size=\"14.00\" fill=\"#000000\">class = functional</text>\n</g>\n<!-- 1&#45;&gt;2 -->\n<g id=\"edge2\" class=\"edge\">\n<title>1&#45;&gt;2</title>\n<path fill=\"none\" stroke=\"#000000\" d=\"M235.1851,-400.9465C211.1292,-388.4997 184.0513,-374.4892 160.4827,-362.2946\"/>\n<polygon fill=\"#000000\" stroke=\"#000000\" points=\"161.7878,-359.0291 151.2978,-357.5422 158.571,-365.2462 161.7878,-359.0291\"/>\n</g>\n<!-- 3 -->\n<g id=\"node4\" class=\"node\">\n<title>3</title>\n<path fill=\"#f3c5a3\" stroke=\"#000000\" d=\"M382,-357.5C382,-357.5 230,-357.5 230,-357.5 224,-357.5 218,-351.5 218,-345.5 218,-345.5 218,-316.5 218,-316.5 218,-310.5 224,-304.5 230,-304.5 230,-304.5 382,-304.5 382,-304.5 388,-304.5 394,-310.5 394,-316.5 394,-316.5 394,-345.5 394,-345.5 394,-351.5 388,-357.5 382,-357.5\"/>\n<text text-anchor=\"middle\" x=\"306\" y=\"-342.3\" font-family=\"Helvetica,sans-Serif\" font-size=\"14.00\" fill=\"#000000\">samples = 27.7%</text>\n<text text-anchor=\"middle\" x=\"306\" y=\"-327.3\" font-family=\"Helvetica,sans-Serif\" font-size=\"14.00\" fill=\"#000000\">value = [0.63, 0.06, 0.31]</text>\n<text text-anchor=\"middle\" x=\"306\" y=\"-312.3\" font-family=\"Helvetica,sans-Serif\" font-size=\"14.00\" fill=\"#000000\">class = functional</text>\n</g>\n<!-- 1&#45;&gt;3 -->\n<g id=\"edge3\" class=\"edge\">\n<title>1&#45;&gt;3</title>\n<path fill=\"none\" stroke=\"#000000\" d=\"M302.6372,-400.9465C303.1509,-390.2621 303.7199,-378.4254 304.2416,-367.5742\"/>\n<polygon fill=\"#000000\" stroke=\"#000000\" points=\"307.7396,-367.6987 304.7239,-357.5422 300.7477,-367.3625 307.7396,-367.6987\"/>\n</g>\n<!-- 5 -->\n<g id=\"node6\" class=\"node\">\n<title>5</title>\n<path fill=\"#9d66eb\" stroke=\"#000000\" d=\"M601,-357.5C601,-357.5 433,-357.5 433,-357.5 427,-357.5 421,-351.5 421,-345.5 421,-345.5 421,-316.5 421,-316.5 421,-310.5 427,-304.5 433,-304.5 433,-304.5 601,-304.5 601,-304.5 607,-304.5 613,-310.5 613,-316.5 613,-316.5 613,-345.5 613,-345.5 613,-351.5 607,-357.5 601,-357.5\"/>\n<text text-anchor=\"middle\" x=\"517\" y=\"-342.3\" font-family=\"Helvetica,sans-Serif\" font-size=\"14.00\" fill=\"#000000\">samples = 10.9%</text>\n<text text-anchor=\"middle\" x=\"517\" y=\"-327.3\" font-family=\"Helvetica,sans-Serif\" font-size=\"14.00\" fill=\"#000000\">value = [0.159, 0.031, 0.81]</text>\n<text text-anchor=\"middle\" x=\"517\" y=\"-312.3\" font-family=\"Helvetica,sans-Serif\" font-size=\"14.00\" fill=\"#000000\">class = non functional</text>\n</g>\n<!-- 4&#45;&gt;5 -->\n<g id=\"edge5\" class=\"edge\">\n<title>4&#45;&gt;5</title>\n<path fill=\"none\" stroke=\"#000000\" d=\"M519.6903,-400.9465C519.2793,-390.2621 518.8241,-378.4254 518.4067,-367.5742\"/>\n<polygon fill=\"#000000\" stroke=\"#000000\" points=\"521.9027,-367.4002 518.0209,-357.5422 514.9079,-367.6693 521.9027,-367.4002\"/>\n</g>\n<!-- 6 -->\n<g id=\"node7\" class=\"node\">\n<title>6</title>\n<path fill=\"#fdf7f2\" stroke=\"#000000\" d=\"M821,-365C821,-365 643,-365 643,-365 637,-365 631,-359 631,-353 631,-353 631,-309 631,-309 631,-303 637,-297 643,-297 643,-297 821,-297 821,-297 827,-297 833,-303 833,-309 833,-309 833,-353 833,-353 833,-359 827,-365 821,-365\"/>\n<text text-anchor=\"middle\" x=\"732\" y=\"-349.8\" font-family=\"Helvetica,sans-Serif\" font-size=\"14.00\" fill=\"#000000\">extraction_type_class &lt;= 4.5</text>\n<text text-anchor=\"middle\" x=\"732\" y=\"-334.8\" font-family=\"Helvetica,sans-Serif\" font-size=\"14.00\" fill=\"#000000\">samples = 16.2%</text>\n<text text-anchor=\"middle\" x=\"732\" y=\"-319.8\" font-family=\"Helvetica,sans-Serif\" font-size=\"14.00\" fill=\"#000000\">value = [0.497, 0.043, 0.46]</text>\n<text text-anchor=\"middle\" x=\"732\" y=\"-304.8\" font-family=\"Helvetica,sans-Serif\" font-size=\"14.00\" fill=\"#000000\">class = functional</text>\n</g>\n<!-- 4&#45;&gt;6 -->\n<g id=\"edge6\" class=\"edge\">\n<title>4&#45;&gt;6</title>\n<path fill=\"none\" stroke=\"#000000\" d=\"M590.0893,-400.9465C610.4002,-390.9354 632.7633,-379.9129 653.6112,-369.6371\"/>\n<polygon fill=\"#000000\" stroke=\"#000000\" points=\"655.3332,-372.6905 662.7555,-365.13 652.2385,-366.4117 655.3332,-372.6905\"/>\n</g>\n<!-- 7 -->\n<g id=\"node8\" class=\"node\">\n<title>7</title>\n<path fill=\"#d8c1f7\" stroke=\"#000000\" d=\"M710,-253.5C710,-253.5 534,-253.5 534,-253.5 528,-253.5 522,-247.5 522,-241.5 522,-241.5 522,-212.5 522,-212.5 522,-206.5 528,-200.5 534,-200.5 534,-200.5 710,-200.5 710,-200.5 716,-200.5 722,-206.5 722,-212.5 722,-212.5 722,-241.5 722,-241.5 722,-247.5 716,-253.5 710,-253.5\"/>\n<text text-anchor=\"middle\" x=\"622\" y=\"-238.3\" font-family=\"Helvetica,sans-Serif\" font-size=\"14.00\" fill=\"#000000\">samples = 5.0%</text>\n<text text-anchor=\"middle\" x=\"622\" y=\"-223.3\" font-family=\"Helvetica,sans-Serif\" font-size=\"14.00\" fill=\"#000000\">value = [0.381, 0.045, 0.574]</text>\n<text text-anchor=\"middle\" x=\"622\" y=\"-208.3\" font-family=\"Helvetica,sans-Serif\" font-size=\"14.00\" fill=\"#000000\">class = non functional</text>\n</g>\n<!-- 6&#45;&gt;7 -->\n<g id=\"edge7\" class=\"edge\">\n<title>6&#45;&gt;7</title>\n<path fill=\"none\" stroke=\"#000000\" d=\"M695.9819,-296.9465C683.6325,-285.2707 669.8278,-272.219 657.5183,-260.5809\"/>\n<polygon fill=\"#000000\" stroke=\"#000000\" points=\"659.7445,-257.869 650.0734,-253.5422 654.9354,-262.9556 659.7445,-257.869\"/>\n</g>\n<!-- 8 -->\n<g id=\"node9\" class=\"node\">\n<title>8</title>\n<path fill=\"#f9e2d1\" stroke=\"#000000\" d=\"M930,-261C930,-261 752,-261 752,-261 746,-261 740,-255 740,-249 740,-249 740,-205 740,-205 740,-199 746,-193 752,-193 752,-193 930,-193 930,-193 936,-193 942,-199 942,-205 942,-205 942,-249 942,-249 942,-255 936,-261 930,-261\"/>\n<text text-anchor=\"middle\" x=\"841\" y=\"-245.8\" font-family=\"Helvetica,sans-Serif\" font-size=\"14.00\" fill=\"#000000\">extraction_type_class &lt;= 5.5</text>\n<text text-anchor=\"middle\" x=\"841\" y=\"-230.8\" font-family=\"Helvetica,sans-Serif\" font-size=\"14.00\" fill=\"#000000\">samples = 11.2%</text>\n<text text-anchor=\"middle\" x=\"841\" y=\"-215.8\" font-family=\"Helvetica,sans-Serif\" font-size=\"14.00\" fill=\"#000000\">value = [0.548, 0.042, 0.41]</text>\n<text text-anchor=\"middle\" x=\"841\" y=\"-200.8\" font-family=\"Helvetica,sans-Serif\" font-size=\"14.00\" fill=\"#000000\">class = functional</text>\n</g>\n<!-- 6&#45;&gt;8 -->\n<g id=\"edge8\" class=\"edge\">\n<title>6&#45;&gt;8</title>\n<path fill=\"none\" stroke=\"#000000\" d=\"M767.6907,-296.9465C777.2891,-287.7884 787.7747,-277.7838 797.7366,-268.2788\"/>\n<polygon fill=\"#000000\" stroke=\"#000000\" points=\"800.4102,-270.5655 805.2291,-261.13 795.5779,-265.5009 800.4102,-270.5655\"/>\n</g>\n<!-- 9 -->\n<g id=\"node10\" class=\"node\">\n<title>9</title>\n<path fill=\"#f9e4d5\" stroke=\"#000000\" d=\"M819,-149.5C819,-149.5 643,-149.5 643,-149.5 637,-149.5 631,-143.5 631,-137.5 631,-137.5 631,-108.5 631,-108.5 631,-102.5 637,-96.5 643,-96.5 643,-96.5 819,-96.5 819,-96.5 825,-96.5 831,-102.5 831,-108.5 831,-108.5 831,-137.5 831,-137.5 831,-143.5 825,-149.5 819,-149.5\"/>\n<text text-anchor=\"middle\" x=\"731\" y=\"-134.3\" font-family=\"Helvetica,sans-Serif\" font-size=\"14.00\" fill=\"#000000\">samples = 10.3%</text>\n<text text-anchor=\"middle\" x=\"731\" y=\"-119.3\" font-family=\"Helvetica,sans-Serif\" font-size=\"14.00\" fill=\"#000000\">value = [0.541, 0.042, 0.416]</text>\n<text text-anchor=\"middle\" x=\"731\" y=\"-104.3\" font-family=\"Helvetica,sans-Serif\" font-size=\"14.00\" fill=\"#000000\">class = functional</text>\n</g>\n<!-- 8&#45;&gt;9 -->\n<g id=\"edge9\" class=\"edge\">\n<title>8&#45;&gt;9</title>\n<path fill=\"none\" stroke=\"#000000\" d=\"M804.9819,-192.9465C792.6325,-181.2707 778.8278,-168.219 766.5183,-156.5809\"/>\n<polygon fill=\"#000000\" stroke=\"#000000\" points=\"768.7445,-153.869 759.0734,-149.5422 763.9354,-158.9556 768.7445,-153.869\"/>\n</g>\n<!-- 10 -->\n<g id=\"node11\" class=\"node\">\n<title>10</title>\n<path fill=\"#f4cbad\" stroke=\"#000000\" d=\"M1039,-157C1039,-157 861,-157 861,-157 855,-157 849,-151 849,-145 849,-145 849,-101 849,-101 849,-95 855,-89 861,-89 861,-89 1039,-89 1039,-89 1045,-89 1051,-95 1051,-101 1051,-101 1051,-145 1051,-145 1051,-151 1045,-157 1039,-157\"/>\n<text text-anchor=\"middle\" x=\"950\" y=\"-141.8\" font-family=\"Helvetica,sans-Serif\" font-size=\"14.00\" fill=\"#000000\">extraction_type_class &lt;= 6.5</text>\n<text text-anchor=\"middle\" x=\"950\" y=\"-126.8\" font-family=\"Helvetica,sans-Serif\" font-size=\"14.00\" fill=\"#000000\">samples = 0.9%</text>\n<text text-anchor=\"middle\" x=\"950\" y=\"-111.8\" font-family=\"Helvetica,sans-Serif\" font-size=\"14.00\" fill=\"#000000\">value = [0.614, 0.043, 0.343]</text>\n<text text-anchor=\"middle\" x=\"950\" y=\"-96.8\" font-family=\"Helvetica,sans-Serif\" font-size=\"14.00\" fill=\"#000000\">class = functional</text>\n</g>\n<!-- 8&#45;&gt;10 -->\n<g id=\"edge10\" class=\"edge\">\n<title>8&#45;&gt;10</title>\n<path fill=\"none\" stroke=\"#000000\" d=\"M876.6907,-192.9465C886.2891,-183.7884 896.7747,-173.7838 906.7366,-164.2788\"/>\n<polygon fill=\"#000000\" stroke=\"#000000\" points=\"909.4102,-166.5655 914.2291,-157.13 904.5779,-161.5009 909.4102,-166.5655\"/>\n</g>\n<!-- 11 -->\n<g id=\"node12\" class=\"node\">\n<title>11</title>\n<path fill=\"#f2bf9b\" stroke=\"#000000\" d=\"M929,-53C929,-53 753,-53 753,-53 747,-53 741,-47 741,-41 741,-41 741,-12 741,-12 741,-6 747,0 753,0 753,0 929,0 929,0 935,0 941,-6 941,-12 941,-12 941,-41 941,-41 941,-47 935,-53 929,-53\"/>\n<text text-anchor=\"middle\" x=\"841\" y=\"-37.8\" font-family=\"Helvetica,sans-Serif\" font-size=\"14.00\" fill=\"#000000\">samples = 0.7%</text>\n<text text-anchor=\"middle\" x=\"841\" y=\"-22.8\" font-family=\"Helvetica,sans-Serif\" font-size=\"14.00\" fill=\"#000000\">value = [0.657, 0.037, 0.306]</text>\n<text text-anchor=\"middle\" x=\"841\" y=\"-7.8\" font-family=\"Helvetica,sans-Serif\" font-size=\"14.00\" fill=\"#000000\">class = functional</text>\n</g>\n<!-- 10&#45;&gt;11 -->\n<g id=\"edge11\" class=\"edge\">\n<title>10&#45;&gt;11</title>\n<path fill=\"none\" stroke=\"#000000\" d=\"M911.5707,-88.9777C900.9173,-79.546 889.3641,-69.3178 878.7499,-59.9208\"/>\n<polygon fill=\"#000000\" stroke=\"#000000\" points=\"881.0207,-57.2566 871.2133,-53.2485 876.3806,-62.4978 881.0207,-57.2566\"/>\n</g>\n<!-- 12 -->\n<g id=\"node13\" class=\"node\">\n<title>12</title>\n<path fill=\"#f8f3fd\" stroke=\"#000000\" d=\"M1147,-53C1147,-53 971,-53 971,-53 965,-53 959,-47 959,-41 959,-41 959,-12 959,-12 959,-6 965,0 971,0 971,0 1147,0 1147,0 1153,0 1159,-6 1159,-12 1159,-12 1159,-41 1159,-41 1159,-47 1153,-53 1147,-53\"/>\n<text text-anchor=\"middle\" x=\"1059\" y=\"-37.8\" font-family=\"Helvetica,sans-Serif\" font-size=\"14.00\" fill=\"#000000\">samples = 0.2%</text>\n<text text-anchor=\"middle\" x=\"1059\" y=\"-22.8\" font-family=\"Helvetica,sans-Serif\" font-size=\"14.00\" fill=\"#000000\">value = [0.452, 0.065, 0.484]</text>\n<text text-anchor=\"middle\" x=\"1059\" y=\"-7.8\" font-family=\"Helvetica,sans-Serif\" font-size=\"14.00\" fill=\"#000000\">class = non functional</text>\n</g>\n<!-- 10&#45;&gt;12 -->\n<g id=\"edge12\" class=\"edge\">\n<title>10&#45;&gt;12</title>\n<path fill=\"none\" stroke=\"#000000\" d=\"M988.4293,-88.9777C999.0827,-79.546 1010.6359,-69.3178 1021.2501,-59.9208\"/>\n<polygon fill=\"#000000\" stroke=\"#000000\" points=\"1023.6194,-62.4978 1028.7867,-53.2485 1018.9793,-57.2566 1023.6194,-62.4978\"/>\n</g>\n</g>\n</svg>\n",
            "text/plain": [
              "<graphviz.files.Source at 0x7f3fc262bda0>"
            ]
          },
          "metadata": {
            "tags": []
          }
        }
      ]
    },
    {
      "cell_type": "markdown",
      "metadata": {
        "id": "Px9N8v5WxyD5"
      },
      "source": [
        "# Understand how tree ensembles reduce overfitting compared to a single decision tree with unlimited depth"
      ]
    },
    {
      "cell_type": "markdown",
      "metadata": {
        "id": "QfPc7VZ3xyD-"
      },
      "source": [
        "## Overview"
      ]
    },
    {
      "cell_type": "markdown",
      "metadata": {
        "id": "33x1j4f5xyEB"
      },
      "source": [
        "### What's \"random\" about random forests?\n",
        "1. Each tree trains on a random bootstrap sample of the data. (In scikit-learn, for `RandomForestRegressor` and `RandomForestClassifier`, the `bootstrap` parameter's default is `True`.) This type of ensembling is called Bagging. (Bootstrap AGGregatING.)\n",
        "2. Each split considers a random subset of the features. (In scikit-learn, when the `max_features` parameter is not `None`.) \n",
        "\n",
        "For extra randomness, you can try [\"extremely randomized trees\"](https://scikit-learn.org/stable/modules/ensemble.html#extremely-randomized-trees)!\n",
        "\n",
        ">In extremely randomized trees (see [ExtraTreesClassifier](https://scikit-learn.org/stable/modules/generated/sklearn.ensemble.ExtraTreesClassifier.html) and [ExtraTreesRegressor](https://scikit-learn.org/stable/modules/generated/sklearn.ensemble.ExtraTreesRegressor.html) classes), randomness goes one step further in the way splits are computed. As in random forests, a random subset of candidate features is used, but instead of looking for the most discriminative thresholds, thresholds are drawn at random for each candidate feature and the best of these randomly-generated thresholds is picked as the splitting rule. This usually allows to reduce the variance of the model a bit more, at the expense of a slightly greater increase in bias"
      ]
    },
    {
      "cell_type": "markdown",
      "metadata": {
        "id": "BHQp7Ti7xyED"
      },
      "source": [
        "## Follow Along"
      ]
    },
    {
      "cell_type": "markdown",
      "metadata": {
        "id": "jw3x-1eBxyEF"
      },
      "source": [
        "### Example: [predicting golf putts](https://statmodeling.stat.columbia.edu/2008/12/04/the_golf_puttin/)\n",
        "(1 feature, non-linear, regression)"
      ]
    },
    {
      "cell_type": "code",
      "metadata": {
        "id": "XR9fMzBoxyEH"
      },
      "source": [
        "putts = pd.DataFrame(\n",
        "    columns=['distance', 'tries', 'successes'], \n",
        "    data = [[2, 1443, 1346],\n",
        "            [3, 694, 577],\n",
        "            [4, 455, 337],\n",
        "            [5, 353, 208],\n",
        "            [6, 272, 149],\n",
        "            [7, 256, 136],\n",
        "            [8, 240, 111],\n",
        "            [9, 217, 69],\n",
        "            [10, 200, 67],\n",
        "            [11, 237, 75],\n",
        "            [12, 202, 52],\n",
        "            [13, 192, 46],\n",
        "            [14, 174, 54],\n",
        "            [15, 167, 28],\n",
        "            [16, 201, 27],\n",
        "            [17, 195, 31],\n",
        "            [18, 191, 33],\n",
        "            [19, 147, 20],\n",
        "            [20, 152, 24]]\n",
        ")\n",
        "\n",
        "putts['rate of success'] = putts['successes'] / putts['tries']\n",
        "putts_X = putts[['distance']]\n",
        "putts_y = putts['rate of success']"
      ],
      "execution_count": null,
      "outputs": []
    },
    {
      "cell_type": "code",
      "metadata": {
        "id": "gszSk_6vxyEX",
        "outputId": "387f0783-6a45-42e8-e351-d7344645d3ac",
        "colab": {
          "referenced_widgets": [
            "e2c6ca9bc2e54e14ba5b8b05986a9adb",
            "70970a4c99e0408fab25a57e2bbc35df",
            "7b399d59f0284df28aaa0208f4d7455d",
            "8ea6108cfd7047be8c952f23bcacc74d",
            "27f0defc6e9f4e298c1d79f497fbf225",
            "7cf413bf469b4652a7732f9662a9148f",
            "78d31f0ebb384b55a2dde9a7342ea470",
            "78a7e765572d47b1ba45d382a609204e",
            "722be04a24be4729b92c13d3a23cd6db",
            "1af0597bec2240bdbee3deb85bb126da"
          ]
        }
      },
      "source": [
        "%matplotlib inline\n",
        "import matplotlib.pyplot as plt\n",
        "from ipywidgets import interact\n",
        "from sklearn.ensemble import RandomForestRegressor\n",
        "from sklearn.tree import DecisionTreeRegressor\n",
        "\n",
        "def putt_trees(max_depth=1, n_estimators=1):\n",
        "    models = [DecisionTreeRegressor(max_depth=max_depth), \n",
        "              RandomForestRegressor(max_depth=max_depth, n_estimators=n_estimators)]\n",
        "    \n",
        "    for model in models:\n",
        "        name = model.__class__.__name__\n",
        "        model.fit(putts_X, putts_y)\n",
        "        ax = putts.plot('distance', 'rate of success', kind='scatter', title=name)\n",
        "        ax.step(putts_X, model.predict(putts_X), where='mid')\n",
        "        plt.show()\n",
        "        \n",
        "interact(putt_trees, max_depth=(1,6,1), n_estimators=(10,40,10));"
      ],
      "execution_count": null,
      "outputs": [
        {
          "output_type": "display_data",
          "data": {
            "application/vnd.jupyter.widget-view+json": {
              "model_id": "e2c6ca9bc2e54e14ba5b8b05986a9adb",
              "version_major": 2,
              "version_minor": 0
            },
            "text/plain": [
              "interactive(children=(IntSlider(value=1, description='max_depth', max=6, min=1), IntSlider(value=10, descripti…"
            ]
          },
          "metadata": {
            "tags": []
          }
        }
      ]
    },
    {
      "cell_type": "markdown",
      "metadata": {
        "id": "VeU8-RI9xyEl"
      },
      "source": [
        "### Bagging demo, with golf putts data\n",
        "https://pandas.pydata.org/pandas-docs/stable/reference/api/pandas.DataFrame.sample.html"
      ]
    },
    {
      "cell_type": "code",
      "metadata": {
        "scrolled": false,
        "id": "ahIn2Ju5xyEo",
        "outputId": "14f8c3a5-0766-447c-93c2-777c9c3eacb8",
        "colab": {
          "referenced_widgets": [
            "ad7c4dca2ee344418a1c9550b4082bb7",
            "de5bba6539a54a0ca1ee56e1ecfa76a2",
            "405f1890e1e748d3bb72cb474961949a",
            "72d7936338844ec7adc410214da5ff7a",
            "d9fc68fd1e0b494ead6a19e4db5e9710",
            "60bea0f9264b4c1fbc594c7b2ed79f82",
            "c020687514e04fc897352ef1f420375b",
            "cd3db4718d5f46dc9b2ce60acb848d93",
            "4594567ec93148499e4ffb6dc777f154",
            "2a73c08a114e4e7792979882f272a70c"
          ]
        }
      },
      "source": [
        "# Do-it-yourself Bagging Ensemble of Decision Trees (like a Random Forest)\n",
        "def diy_bagging(max_depth=1, n_estimators=1):\n",
        "    y_preds = []\n",
        "    for i in range(n_estimators):\n",
        "        title = f'Tree {i+1}'\n",
        "        bootstrap_sample = putts.sample(n=len(putts), replace=True).sort_values(by='distance')\n",
        "        bootstrap_X = bootstrap_sample[['distance']]\n",
        "        bootstrap_y = bootstrap_sample['rate of success']\n",
        "        tree = DecisionTreeRegressor(max_depth=max_depth)\n",
        "        tree.fit(bootstrap_X, bootstrap_y)\n",
        "        y_pred = tree.predict(bootstrap_X)\n",
        "        y_preds.append(y_pred)\n",
        "        ax = bootstrap_sample.plot('distance', 'rate of success', kind='scatter', title=title)\n",
        "        ax.step(bootstrap_X, y_pred, where='mid')\n",
        "        plt.show()\n",
        "        \n",
        "    ensembled = np.vstack(y_preds).mean(axis=0)\n",
        "    title = f'Ensemble of {n_estimators} trees, with max_depth={max_depth}'\n",
        "    ax = putts.plot('distance', 'rate of success', kind='scatter', title=title)\n",
        "    ax.step(putts_X, ensembled, where='mid')\n",
        "    plt.show()\n",
        "    \n",
        "interact(diy_bagging, max_depth=(1,6,1), n_estimators=(2,5,1));"
      ],
      "execution_count": null,
      "outputs": [
        {
          "output_type": "display_data",
          "data": {
            "application/vnd.jupyter.widget-view+json": {
              "model_id": "ad7c4dca2ee344418a1c9550b4082bb7",
              "version_major": 2,
              "version_minor": 0
            },
            "text/plain": [
              "interactive(children=(IntSlider(value=1, description='max_depth', max=6, min=1), IntSlider(value=2, descriptio…"
            ]
          },
          "metadata": {
            "tags": []
          }
        }
      ]
    },
    {
      "cell_type": "markdown",
      "metadata": {
        "id": "48VjeU9DxyFD"
      },
      "source": [
        "### Go back to Tanzania Waterpumps ..."
      ]
    },
    {
      "cell_type": "markdown",
      "metadata": {
        "id": "zAVezxfOxyFF"
      },
      "source": [
        "#### Helper function to visualize predicted probabilities\n",
        "\n"
      ]
    },
    {
      "cell_type": "code",
      "metadata": {
        "id": "gTz3d6x1xyFI"
      },
      "source": [
        "import itertools\n",
        "import seaborn as sns\n",
        "\n",
        "def pred_heatmap(model, X, features, class_index=-1, title='', num=100):\n",
        "    \"\"\"\n",
        "    Visualize predicted probabilities, for classifier fit on 2 numeric features\n",
        "    \n",
        "    Parameters\n",
        "    ----------\n",
        "    model : scikit-learn classifier, already fit\n",
        "    X : pandas dataframe, which was used to fit model\n",
        "    features : list of strings, column names of the 2 numeric features\n",
        "    class_index : integer, index of class label\n",
        "    title : string, title of plot\n",
        "    num : int, number of grid points for each feature\n",
        "    \n",
        "    Returns\n",
        "    -------\n",
        "    y_pred_proba : numpy array, predicted probabilities for class_index\n",
        "    \"\"\"\n",
        "    feature1, feature2 = features\n",
        "    min1, max1 = X[feature1].min(), X[feature1].max()\n",
        "    min2, max2 = X[feature2].min(), X[feature2].max()\n",
        "    x1 = np.linspace(min1, max1, num)\n",
        "    x2 = np.linspace(max2, min2, num)\n",
        "    combos = list(itertools.product(x1, x2))\n",
        "    y_pred_proba = model.predict_proba(combos)[:, class_index]\n",
        "    pred_grid = y_pred_proba.reshape(num, num).T\n",
        "    table = pd.DataFrame(pred_grid, columns=x1, index=x2)\n",
        "    sns.heatmap(table, vmin=0, vmax=1)\n",
        "    plt.xticks([])\n",
        "    plt.yticks([])\n",
        "    plt.xlabel(feature1)\n",
        "    plt.ylabel(feature2)\n",
        "    plt.title(title)\n",
        "    plt.show()\n",
        "    return y_pred_proba\n"
      ],
      "execution_count": null,
      "outputs": []
    },
    {
      "cell_type": "markdown",
      "metadata": {
        "id": "vEEsF01exyFZ"
      },
      "source": [
        "### Compare Decision Tree, Random Forest, Logistic Regression"
      ]
    },
    {
      "cell_type": "code",
      "metadata": {
        "id": "oayWg9_exyFc",
        "outputId": "ebaa93c8-7a1e-43a5-e551-af1692c0eae3",
        "colab": {
          "referenced_widgets": [
            "67c23f3cf94b48cabe1156337de10785",
            "9d585d57c3614f5ab5360ffc12810909",
            "6c3572067fc6454b95efbe5e9831cbda",
            "b82080b6139c46a2ba2253c86df5152d",
            "c9f5477f524941478bcec55ed18b5b48",
            "eb5aeeec075b48bd9646d7936b62f095",
            "2fb8362388754d84a4da9d49d475125a",
            "bf8b7870a1094359b98a6db5e3bf0e06",
            "80153fde065141d7ad7c64b9c5b1c533",
            "438007107eff4bf5b9c5b0528415928e"
          ]
        }
      },
      "source": [
        "# Instructions\n",
        "# 1. Choose two features\n",
        "# 2. Run this code cell\n",
        "# 3. Interact with the widget sliders\n",
        "feature1 = 'longitude'\n",
        "feature2 = 'quantity'\n",
        "\n",
        "from sklearn.linear_model import LogisticRegression\n",
        "from sklearn.tree import DecisionTreeClassifier\n",
        "\n",
        "def get_X_y(df, feature1, feature2, target):\n",
        "    features = [feature1, feature2]\n",
        "    X = df[features]\n",
        "    y = df[target]\n",
        "    X = X.fillna(X.median())\n",
        "    X = ce.OrdinalEncoder().fit_transform(X)\n",
        "    return X, y\n",
        "\n",
        "def compare_models(max_depth=1, n_estimators=1):\n",
        "    models = [DecisionTreeClassifier(max_depth=max_depth), \n",
        "              RandomForestClassifier(max_depth=max_depth, n_estimators=n_estimators), \n",
        "              LogisticRegression(solver='lbfgs', multi_class='auto')]\n",
        "    \n",
        "    for model in models:\n",
        "        name = model.__class__.__name__\n",
        "        model.fit(X, y)\n",
        "        pred_heatmap(model, X, [feature1, feature2], class_index=0, title=name)\n",
        "\n",
        "X, y = get_X_y(train, feature1, feature2, target='status_group')\n",
        "interact(compare_models, max_depth=(1,6,1), n_estimators=(10,40,10));"
      ],
      "execution_count": null,
      "outputs": [
        {
          "output_type": "display_data",
          "data": {
            "application/vnd.jupyter.widget-view+json": {
              "model_id": "67c23f3cf94b48cabe1156337de10785",
              "version_major": 2,
              "version_minor": 0
            },
            "text/plain": [
              "interactive(children=(IntSlider(value=1, description='max_depth', max=6, min=1), IntSlider(value=10, descripti…"
            ]
          },
          "metadata": {
            "tags": []
          }
        }
      ]
    },
    {
      "cell_type": "markdown",
      "metadata": {
        "id": "XpyHCpy-xyFu"
      },
      "source": [
        "### Bagging"
      ]
    },
    {
      "cell_type": "code",
      "metadata": {
        "id": "FmXyHiRsxyGJ",
        "outputId": "553e6173-1698-4ee3-e502-7ef9bd9e1c8e",
        "colab": {
          "referenced_widgets": [
            "86919dc362964f26868298f5c0ad006c",
            "5497204abada44cf89eaa965d7e3fd25",
            "29656722c5354ee9b44fc737b07373db",
            "f3d452c276c24b7d8c0cf8377b0e6347",
            "0d0fbc11223f457b90d031e716dee43c",
            "9f322537288f43babf83fcd9e9acdb83",
            "cd1b65b3959442a9a623b0244297dc0f",
            "cc1ee52157304a6ba33d88fb683424ae",
            "182c1456853444b3a66a33d770ee726e",
            "f7acf36d5e3d4e2da905cad92248f477"
          ]
        }
      },
      "source": [
        "# Do-it-yourself Bagging Ensemble of Decision Trees (like a Random Forest)\n",
        "\n",
        "# Instructions\n",
        "# 1. Choose two features\n",
        "# 2. Run this code cell\n",
        "# 3. Interact with the widget sliders\n",
        "\n",
        "feature1 = 'longitude'\n",
        "feature2 = 'latitude'\n",
        "\n",
        "def waterpumps_bagging(max_depth=1, n_estimators=1):\n",
        "    predicteds = []\n",
        "    for i in range(n_estimators):\n",
        "        title = f'Tree {i+1}'\n",
        "        bootstrap_sample = train.sample(n=len(train), replace=True)\n",
        "        X, y = get_X_y(bootstrap_sample, feature1, feature2, target='status_group')\n",
        "        tree = DecisionTreeClassifier(max_depth=max_depth)\n",
        "        tree.fit(X, y)\n",
        "        predicted = pred_heatmap(tree, X, [feature1, feature2], class_index=0, title=title)\n",
        "        predicteds.append(predicted)\n",
        "    \n",
        "    ensembled = np.vstack(predicteds).mean(axis=0)\n",
        "    title = f'Ensemble of {n_estimators} trees, with max_depth={max_depth}'\n",
        "    sns.heatmap(ensembled.reshape(100, 100).T, vmin=0, vmax=1)\n",
        "    plt.title(title)\n",
        "    plt.xlabel(feature1)\n",
        "    plt.ylabel(feature2)\n",
        "    plt.xticks([])\n",
        "    plt.yticks([])\n",
        "    plt.show()\n",
        "        \n",
        "interact(waterpumps_bagging, max_depth=(1,6,1), n_estimators=(2,5,1));"
      ],
      "execution_count": null,
      "outputs": [
        {
          "output_type": "display_data",
          "data": {
            "application/vnd.jupyter.widget-view+json": {
              "model_id": "86919dc362964f26868298f5c0ad006c",
              "version_major": 2,
              "version_minor": 0
            },
            "text/plain": [
              "interactive(children=(IntSlider(value=1, description='max_depth', max=6, min=1), IntSlider(value=2, descriptio…"
            ]
          },
          "metadata": {
            "tags": []
          }
        }
      ]
    },
    {
      "cell_type": "markdown",
      "metadata": {
        "id": "lvmbrW8WxyGl"
      },
      "source": [
        "# Review\n",
        "\n",
        "#### Try Tree Ensembles when you do machine learning with labeled, tabular data\n",
        "- \"Tree Ensembles\" means Random Forest or Gradient Boosting models. \n",
        "- [Tree Ensembles often have the best predictive accuracy](https://arxiv.org/abs/1708.05070) with labeled, tabular data.\n",
        "- Why? Because trees can fit non-linear, non-[monotonic](https://en.wikipedia.org/wiki/Monotonic_function) relationships, and [interactions](https://christophm.github.io/interpretable-ml-book/interaction.html) between features.\n",
        "- A single decision tree, grown to unlimited depth, will [overfit](http://www.r2d3.us/visual-intro-to-machine-learning-part-1/). We solve this problem by ensembling trees, with bagging (Random Forest) or boosting (Gradient Boosting).\n",
        "- Random Forest's advantage: may be less sensitive to hyperparameters. Gradient Boosting's advantage: may get better predictive accuracy.\n",
        "\n",
        "#### One-hot encoding isn’t the only way, and may not be the best way, of categorical encoding for tree ensembles.\n",
        "- For example, tree ensembles can work with arbitrary \"ordinal\" encoding! (Randomly assigning an integer to each category.) Compared to one-hot encoding, the dimensionality will be lower, and the predictive accuracy may be just as good or even better.\n"
      ]
    }
  ]
}